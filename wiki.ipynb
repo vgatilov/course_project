{
 "cells": [
  {
   "cell_type": "code",
   "execution_count": 7,
   "metadata": {},
   "outputs": [],
   "source": [
    "import numpy as np\n",
    "#from googletrans import Translator\n",
    "from translate import Translator\n",
    "import wikipedia as wiki\n",
    "import spacy\n",
    "from spacy import displacy\n",
    "from collections import Counter\n",
    "import en_core_web_sm\n",
    "from nltk.stem.snowball import SnowballStemmer\n",
    "import nltk\n",
    "import zipfile\n",
    "import gensim\n",
    "from tqdm import tqdm\n",
    "from sklearn.metrics.pairwise import cosine_similarity\n",
    "import sys\n",
    "import os\n",
    "import wget\n",
    "import re\n",
    "from ufal.udpipe import Model, Pipeline\n",
    "import pandas as pd\n",
    "import matplotlib.pyplot as plt\n",
    "import json\n",
    "from sklearn.metrics import roc_auc_score, pairwise_distances\n",
    "from sklearn.preprocessing import normalize\n",
    "from joblib import Parallel, delayed\n",
    "import multiprocessing\n",
    "from deeppavlov.core.common.file import read_json\n",
    "from deeppavlov import build_model, configs\n",
    "from transformers import BertModel"
   ]
  },
  {
   "cell_type": "code",
   "execution_count": 8,
   "metadata": {},
   "outputs": [],
   "source": [
    "def get_russian_translation(sent):\n",
    "    \"\"\"\n",
    "    Return english translation.\n",
    "\n",
    "    sent - sentence in russian\n",
    "    \"\"\"\n",
    "    translator = Translator(to_lang=\"ru\", from_lang='eng')\n",
    "    return  translator.translate(sent)\n",
    "\n",
    "def get_english_translation(sent):\n",
    "    \"\"\"\n",
    "    Return english translation.\n",
    "\n",
    "    sent - sentence in russian\n",
    "    \"\"\"\n",
    "    translator = Translator(to_lang=\"eng\", from_lang='ru')\n",
    "    return  translator.translate(sent)\n",
    "\n",
    "\n",
    "def get_wiki_titles(sent, count):\n",
    "    \"\"\"\n",
    "    Return titles of wikipedia pages for sentece.\n",
    "\n",
    "    sent - sentence\n",
    "    count - count of suggestions\n",
    "    \"\"\"\n",
    "    trans = get_russian_translation(sent)\n",
    "    #trans = sent\n",
    "    wiki.set_lang(\"ru\")\n",
    "    if wiki.suggest(trans) is None:\n",
    "        return wiki.search(trans, count)\n",
    "    else:\n",
    "        return wiki.search(wiki.suggest(trans), count)\n",
    "\n",
    "\n",
    "def get_wiki_pages(sent, count):\n",
    "    \"\"\"\n",
    "    Return wikipedia pages for sentence.\n",
    "\n",
    "    sent - sentence\n",
    "    count = count of suggestions\n",
    "    \"\"\"\n",
    "    pages = []\n",
    "    titles = get_wiki_titles(sent, count)\n",
    "    true_titles = []\n",
    "    cur = -1\n",
    "    while cur < min(count, len(titles) - 1):\n",
    "        cur += 1\n",
    "        try:\n",
    "            pages.append(wiki.page(title=titles[cur]))\n",
    "            true_titles.append(titles[cur])\n",
    "        #except wiki.exceptions.DisambiguationError as e:\n",
    "        except:\n",
    "            continue\n",
    "            #mini_tit = list(set(e.options) - set(titles))\n",
    "            #for k in np.arange(count - len(pages)):\n",
    "            #    if k >= len(mini_tit):\n",
    "            #        break\n",
    "            #    if mini_tit[k].find('All ') == 0:\n",
    "            #        continue\n",
    "            #    else:\n",
    "            #        pages.append(wiki.page(title=mini_tit[k]))    \n",
    "            #        true_titles.append(mini_tit[k])\n",
    "    return pages, true_titles\n",
    "\n",
    "\n",
    "def get_named_entities(sent):\n",
    "    \"\"\"\n",
    "    Return named entities of sentence.\n",
    "\n",
    "    sent - sentence\n",
    "    \"\"\"\n",
    "    nlp = en_core_web_sm.load()\n",
    "    doc = nlp(sent)\n",
    "    return list(map(lambda x: x.text, doc.ents))\n",
    "\n",
    "\n",
    "def get_noun_groups(sent):\n",
    "    \"\"\"\n",
    "    Return named groups of sentence.\n",
    "\n",
    "    sent - sentence\n",
    "    \"\"\"\n",
    "    nlp = en_core_web_sm.load()\n",
    "    doc = nlp(sent)\n",
    "    return list(map(lambda x: str(x), doc.noun_chunks))\n",
    "\n",
    "\n",
    "def get_sent_heads(sent):\n",
    "    \"\"\"\n",
    "    Return roots of semantic dependencies from sentence.\n",
    "\n",
    "    sent - sentence\n",
    "    \"\"\"\n",
    "    nlp = en_core_web_sm.load()\n",
    "    doc = nlp(sent)\n",
    "    d = list(map(lambda x: (x.text, x.dep_), doc))\n",
    "    roots = list(map(\n",
    "        lambda x: x[0], \n",
    "        list(filter(\n",
    "            lambda x: x[1] == 'ROOT', \n",
    "            list(map(lambda x: (x.text, x.dep_), doc))\n",
    "        ))\n",
    "    ))\n",
    "    return [sent[sent.find(root):sent.find(root) + len(root)] for root in roots]\n",
    "\n",
    "\n",
    "def get_queries(sent):\n",
    "    \"\"\"\n",
    "    Return wikipedia acceptable queries for sentence.\n",
    "\n",
    "    sent - sentnce\n",
    "    \"\"\"\n",
    "    #print('Fetching queries...')\n",
    "    trans = get_english_translation(sent)\n",
    "    named = get_named_entities(trans)\n",
    "    heads = get_sent_heads(trans)\n",
    "    noun_groups = get_noun_groups(trans)\n",
    "    n = []\n",
    "    for sublist in named:\n",
    "        for item in sublist.split(' '):\n",
    "            n.append(item)\n",
    "    stemmer = SnowballStemmer(language='english', ignore_stopwords=True)\n",
    "    #stemmer = SnowballStemmer(language='english', ignore_stopwords=True)\n",
    "    heads = [' '.join(\n",
    "        [stemmer.stem(s) if s not in n else s for s in h.split(' ')]\n",
    "    ) for h in heads]\n",
    "    noun_groups = [' '.join(\n",
    "        [stemmer.stem(s) if s not in n else s for s in noun.split(' ')]\n",
    "    ) for noun in noun_groups]\n",
    "    stem = ' '.join(\n",
    "        [stemmer.stem(s) if s not in n else s for s in sent.split(' ')]\n",
    "    )\n",
    "    queries = list(set(named).union(set(heads)).union(noun_groups).union([stem]))\n",
    "    #print('queries:', queries)\n",
    "    #print('\\t Finished.')\n",
    "    return queries\n",
    "\n",
    "\n",
    "def get_relevant_pages(sent, count_per_query=1):\n",
    "    \"\"\"\n",
    "    Return queries and wiki pages for sentence.\n",
    "\n",
    "    sent - sentence\n",
    "    count_per_query - count of top relevant pages for each query\n",
    "    \"\"\"\n",
    "    #print('Fetching relevant pages...')\n",
    "    queries = get_queries(sent) + [sent]\n",
    "    pairs = [get_wiki_pages(q, count=count_per_query) for q in queries]\n",
    "    p = list(map(lambda x: x[0], pairs))\n",
    "    t = list(map(lambda x: x[1], pairs))\n",
    "    pages = []\n",
    "    for sublist in p:\n",
    "        for item in sublist:\n",
    "            pages.append(item)\n",
    "    true_titles = []\n",
    "    for sublist in t:\n",
    "        for item in sublist:\n",
    "            true_titles.append(item)\n",
    "    #print('\\t Finished.')\n",
    "    raw_wiki = dict(zip(true_titles, pages))\n",
    "    return true_titles, raw_wiki\n",
    "\n",
    "\n",
    "def get_paragraphs(pages, queries, sent):\n",
    "    \"\"\"\n",
    "    Return list of paragraphs for wiki pages.\n",
    "\n",
    "    pages - wikipedia pages\n",
    "    \"\"\"\n",
    "    valid_paragraphs = []\n",
    "    cnt = 0\n",
    "    cnt_drop = 0\n",
    "    i = 0\n",
    "    #print('Fetching paragraphs...')\n",
    "    for k, v in pages.items():\n",
    "        for paragraph in v.content.split('\\n'):\n",
    "            if len(paragraph.split(' ')) < (len(sent.split(' ')) / 2):\n",
    "                continue\n",
    "            if paragraph.find('===') >= 0:\n",
    "                continue\n",
    "            flag = 0\n",
    "            for q in queries:\n",
    "                subq = q.split(' ')\n",
    "                for sq in subq:\n",
    "                    if paragraph.find(sq) >= 0:\n",
    "                        valid_paragraphs.append(paragraph)\n",
    "                        flag = 1\n",
    "                        break\n",
    "                if flag:\n",
    "                    break\n",
    "            if flag == 0:\n",
    "                cnt_drop += 1\n",
    "            else:\n",
    "                cnt += 1\n",
    "    #print('\\t Finished.')\n",
    "    print(f'Count: {cnt}, dropped: {cnt_drop}')\n",
    "    return valid_paragraphs\n",
    "\n",
    "\n",
    "'''\n",
    "Этот скрипт принимает на вход необработанный русский текст \n",
    "(одно предложение на строку или один абзац на строку).\n",
    "Он токенизируется, лемматизируется и размечается по частям речи с использованием UDPipe.\n",
    "На выход подаётся последовательность разделенных пробелами лемм с частями речи \n",
    "(\"зеленый_NOUN трамвай_NOUN\").\n",
    "'''\n",
    "\n",
    "\n",
    "def num_replace(word):\n",
    "    \"\"\"\n",
    "    Replace word with 'x' * len(word).\n",
    "\n",
    "    word - word\n",
    "    \"\"\"\n",
    "    newtoken = 'x' * len(word)\n",
    "    return newtoken\n",
    "\n",
    "\n",
    "def clean_token(token, misc):\n",
    "    \"\"\"\n",
    "    Clean token (str).\n",
    "\n",
    "    param token - token\n",
    "    param misc - \"MISC\" from CONLLU\n",
    "    \"\"\"\n",
    "    out_token = token.strip().replace(' ', '')\n",
    "    if token == 'Файл' and 'SpaceAfter=No' in misc:\n",
    "        return None\n",
    "    return out_token\n",
    "\n",
    "\n",
    "def clean_lemma(lemma, pos):\n",
    "    \"\"\"\n",
    "    Clean lemma \n",
    "    :param lemma: лемма (строка)\n",
    "    :param pos: часть речи (строка)\n",
    "    :return: очищенная лемма (строка)\n",
    "    \"\"\"\n",
    "    out_lemma = lemma.strip().replace(' ', '').replace('_', '').lower()\n",
    "    if '|' in out_lemma or out_lemma.endswith('.jpg') or out_lemma.endswith('.png'):\n",
    "        return None\n",
    "    if pos != 'PUNCT':\n",
    "        if out_lemma.startswith('«') or out_lemma.startswith('»'):\n",
    "            out_lemma = ''.join(out_lemma[1:])\n",
    "        if out_lemma.endswith('«') or out_lemma.endswith('»'):\n",
    "            out_lemma = ''.join(out_lemma[:-1])\n",
    "        if out_lemma.endswith('!') or out_lemma.endswith('?') or out_lemma.endswith(',') \\\n",
    "                or out_lemma.endswith('.'):\n",
    "            out_lemma = ''.join(out_lemma[:-1])\n",
    "    return out_lemma\n",
    "\n",
    "\n",
    "def process(pipeline, text='Строка', keep_pos=True, keep_punct=False):\n",
    "    # Если частеречные тэги не нужны (например, их нет в модели), выставьте pos=False\n",
    "    # в этом случае на выход будут поданы только леммы\n",
    "    # По умолчанию знаки пунктуации вырезаются. Чтобы сохранить их, выставьте punct=True\n",
    "\n",
    "    entities = {'PROPN'}\n",
    "    named = False\n",
    "    memory = []\n",
    "    mem_case = None\n",
    "    mem_number = None\n",
    "    tagged_propn = []\n",
    "\n",
    "    # обрабатываем текст, получаем результат в формате conllu:\n",
    "    processed = pipeline.process(text)\n",
    "\n",
    "    # пропускаем строки со служебной информацией:\n",
    "    content = [l for l in processed.split('\\n') if not l.startswith('#')]\n",
    "\n",
    "    # извлекаем из обработанного текста леммы, тэги и морфологические характеристики\n",
    "    tagged = [w.split('\\t') for w in content if w]\n",
    "\n",
    "    for t in tagged:\n",
    "        if len(t) != 10:\n",
    "            continue\n",
    "        (word_id, token, lemma, pos, xpos, feats, head, deprel, deps, misc) = t\n",
    "        token = clean_token(token, misc)\n",
    "        lemma = clean_lemma(lemma, pos)\n",
    "        if not lemma or not token:\n",
    "            continue\n",
    "        if pos in entities:\n",
    "            if '|' not in feats:\n",
    "                tagged_propn.append('%s_%s' % (lemma, pos))\n",
    "                continue\n",
    "            morph = {el.split('=')[0]: el.split('=')[1] for el in feats.split('|')}\n",
    "            if 'Case' not in morph or 'Number' not in morph:\n",
    "                tagged_propn.append('%s_%s' % (lemma, pos))\n",
    "                continue\n",
    "            if not named:\n",
    "                named = True\n",
    "                mem_case = morph['Case']\n",
    "                mem_number = morph['Number']\n",
    "            if morph['Case'] == mem_case and morph['Number'] == mem_number:\n",
    "                memory.append(lemma)\n",
    "                if 'SpacesAfter=\\\\n' in misc or 'SpacesAfter=\\s\\\\n' in misc:\n",
    "                    named = False\n",
    "                    past_lemma = '::'.join(memory)\n",
    "                    memory = []\n",
    "                    tagged_propn.append(past_lemma + '_PROPN')\n",
    "            else:\n",
    "                named = False\n",
    "                past_lemma = '::'.join(memory)\n",
    "                memory = []\n",
    "                tagged_propn.append(past_lemma + '_PROPN')\n",
    "                tagged_propn.append('%s_%s' % (lemma, pos))\n",
    "        else:\n",
    "            if not named:\n",
    "                if pos == 'NUM' and token.isdigit():  # Заменяем числа на xxxxx той же длины\n",
    "                    lemma = num_replace(token)\n",
    "                tagged_propn.append('%s_%s' % (lemma, pos))\n",
    "            else:\n",
    "                named = False\n",
    "                past_lemma = '::'.join(memory)\n",
    "                memory = []\n",
    "                tagged_propn.append(past_lemma + '_PROPN')\n",
    "                tagged_propn.append('%s_%s' % (lemma, pos))\n",
    "\n",
    "    if not keep_punct:\n",
    "        tagged_propn = [word for word in tagged_propn if word.split('_')[1] != 'PUNCT']\n",
    "    if not keep_pos:\n",
    "        tagged_propn = [word.split('_')[0] for word in tagged_propn]\n",
    "    return tagged_propn\n",
    "\n",
    "\n",
    "def tag_ud(text='Текст нужно передать функции в виде строки!', model=None):\n",
    "    process_pipeline = Pipeline(model, 'tokenize', Pipeline.DEFAULT, Pipeline.DEFAULT, 'conllu')\n",
    "    output = []\n",
    "    for line in text.split(' '):\n",
    "        output1 = process(process_pipeline, text=line)\n",
    "        output += output1\n",
    "    return output\n",
    "\n",
    "\n",
    "def get_vectors_for_queries(sent, queries, model, model_tag):\n",
    "    tagged_words_in_quieries = [tag_ud(q, model_tag) for q in queries]\n",
    "    mean_embeddings = []\n",
    "    bad_queries = []\n",
    "    for q, twiq in zip(queries, tagged_words_in_quieries):\n",
    "        vectors = np.array([model.get_vector(word) for word in twiq if word in model])\n",
    "        mean_embeddings.append(np.mean(vectors, axis=0).reshape(1, -1))\n",
    "        if np.mean(vectors, axis=0).reshape(1, -1).shape[1] != 300:\n",
    "            bad_queries.append(q)\n",
    "            if q == sent:\n",
    "                print(sent, 'Sentence not in model')\n",
    "    for q in bad_queries:\n",
    "        queries.remove(q)\n",
    "    mean_embeddings = np.vstack([k for k in mean_embeddings if k.shape[1] == 300])\n",
    "    return queries, mean_embeddings\n",
    "\n",
    "\n",
    "def process_sentence(sent, models, cnt, model_tag):\n",
    "    queries, pages = get_relevant_pages(sent, cnt)\n",
    "    paragraphs = get_paragraphs(pages, queries, sent)\n",
    "    queries, sent_vectors = get_vectors_for_queries(\n",
    "        sent, queries + [sent], models[0], model_tag\n",
    "    )\n",
    "    _, _, _, _, _, _, bert_pooler_outputs = models[1](queries)\n",
    "    sent_vectors_bert = bert_pooler_outputs\n",
    "    par_vectors = []\n",
    "    par_vectors_bert = []\n",
    "    tmp_par = []\n",
    "    for par in paragraphs:\n",
    "        words = tag_ud(par, model_tag)\n",
    "        vectors = np.array([models[0].get_vector(word) for word in words if word in model])\n",
    "        total_vector = np.mean(vectors, axis=0)\n",
    "        par_vectors.append(total_vector)\n",
    "        #cur_words = re.split('(\\W+)', par)\n",
    "        #for i in range(0, len(cur_words), 400):\n",
    "        #    tmp_par.append(''.join(cur_words[i: min(len(cur_words), i + 400)]))\n",
    "        if len(par.split(' ')) < 200:\n",
    "            tmp_par.append(par)\n",
    "    _, _, _, _, _, _, bert_pooler_outputs = models[1](tmp_par)\n",
    "    print(bert_pooler_outputs.shape)\n",
    "    print(sent_vectors_bert.shape)\n",
    "    print(np.mean(np.isnan(bert_pooler_outputs)))\n",
    "    print(np.mean(np.isnan(sent_vectors_bert)))\n",
    "    pvs_bert = bert_pooler_outputs\n",
    "    pvs = np.vstack([pv for pv in par_vectors if isinstance(pv, np.ndarray)])\n",
    "    dist_cos = cosine_similarity(sent_vectors, pvs)\n",
    "    dist_eucl = pairwise_distances(sent_vectors, pvs)\n",
    "    dist_eucl_norm = pairwise_distances(normalize(sent_vectors), normalize(pvs))\n",
    "    dist_cos_bert = cosine_similarity(sent_vectors_bert, pvs_bert)\n",
    "    dist_eucl_bert = pairwise_distances(sent_vectors_bert, pvs_bert)\n",
    "    dist_eucl_norm_bert = pairwise_distances(normalize(sent_vectors_bert), normalize(pvs_bert))\n",
    "    return [\n",
    "        np.max(dist_cos, axis=1)[-1],\n",
    "        np.mean(np.max(dist_cos, axis=1)),\n",
    "        np.max(np.abs(dist_cos), axis=1)[-1],\n",
    "        np.mean(np.max(np.abs(dist_cos), axis=1)),\n",
    "        np.min(dist_eucl, axis=1)[-1],\n",
    "        np.mean(np.max(dist_eucl, axis=1)),\n",
    "        np.min(dist_eucl_norm, axis=1)[-1],\n",
    "        np.mean(np.max(dist_eucl_norm, axis=1)),\n",
    "        np.max(dist_cos_bert, axis=1)[-1],\n",
    "        np.mean(np.max(dist_cos_bert, axis=1)),\n",
    "        np.max(np.abs(dist_cos_bert), axis=1)[-1],\n",
    "        np.mean(np.max(np.abs(dist_cos_bert), axis=1)),\n",
    "        np.min(dist_eucl_bert, axis=1)[-1],\n",
    "        np.mean(np.max(dist_eucl_bert, axis=1)),\n",
    "        np.min(dist_eucl_norm_bert, axis=1)[-1],\n",
    "        np.mean(np.max(dist_eucl_norm_bert, axis=1)),\n",
    "    ]"
   ]
  },
  {
   "cell_type": "code",
   "execution_count": 9,
   "metadata": {},
   "outputs": [],
   "source": [
    "model_url = 'http://vectors.nlpl.eu/repository/11/180.zip'\n",
    "#model_url = 'http://vectors.nlpl.eu/repository/20/183.zip'\n",
    "#wget.download(model_url)\n",
    "\n",
    "model_file = model_url.split('/')[-1]\n",
    "with zipfile.ZipFile(model_file, 'r') as archive:\n",
    "    stream = archive.open('model.bin')\n",
    "    model = gensim.models.KeyedVectors.load_word2vec_format(stream, binary=True)\n",
    "modelfile='udpipe_syntagrus.model'\n",
    "path = !pwd\n",
    "bert_config = read_json(configs.embedder.bert_embedder)\n",
    "bert_config['metadata']['variables']['BERT_PATH'] = path[0] + '/rubert_cased_L-12_H-768_A-12_pt'\n",
    "\n",
    "m = build_model(bert_config)\n",
    "\n",
    "texts = ['Hi, i want my embedding. Surly', 'And mine too, please!', 'Конон варвар']\n",
    "tokens, token_embs, subtokens, subtoken_embs, sent_max_embs, sent_mean_embs, bert_pooler_outputs = m(texts)\n",
    "cnt = 1\n",
    "rows = 167\n",
    "models = [model, m]\n",
    "model_tag = Model.load(modelfile)"
   ]
  },
  {
   "cell_type": "code",
   "execution_count": 10,
   "metadata": {},
   "outputs": [
    {
     "data": {
      "text/plain": [
       "[['Hi', ',', 'i', 'want', 'my', 'embedding', '.', 'Surly'],\n",
       " ['And', 'mine', 'too', ',', 'please', '!'],\n",
       " ['Конон', 'варвар']]"
      ]
     },
     "execution_count": 10,
     "metadata": {},
     "output_type": "execute_result"
    }
   ],
   "source": [
    "tokens"
   ]
  },
  {
   "cell_type": "code",
   "execution_count": 11,
   "metadata": {},
   "outputs": [
    {
     "name": "stderr",
     "output_type": "stream",
     "text": [
      "  0%|          | 0/167 [00:00<?, ?it/s]/Users/vgatilov/anaconda3/lib/python3.7/site-packages/wikipedia/wikipedia.py:389: UserWarning: No parser was explicitly specified, so I'm using the best available HTML parser for this system (\"lxml\"). This usually isn't a problem, but if you run this code on another system, or in a different virtual environment, it may use a different parser and behave differently.\n",
      "\n",
      "The code that caused this warning is on line 389 of the file /Users/vgatilov/anaconda3/lib/python3.7/site-packages/wikipedia/wikipedia.py. To get rid of this warning, pass the additional argument 'features=\"lxml\"' to the BeautifulSoup constructor.\n",
      "\n",
      "  lis = BeautifulSoup(html).find_all('li')\n"
     ]
    },
    {
     "name": "stdout",
     "output_type": "stream",
     "text": [
      "Count: 4, dropped: 60\n"
     ]
    },
    {
     "name": "stderr",
     "output_type": "stream",
     "text": [
      "\r",
      "  1%|          | 1/167 [00:18<51:57, 18.78s/it]"
     ]
    },
    {
     "name": "stdout",
     "output_type": "stream",
     "text": [
      "(4, 768)\n",
      "(3, 768)\n",
      "0.0\n",
      "0.0\n",
      "Count: 15, dropped: 219\n"
     ]
    },
    {
     "name": "stderr",
     "output_type": "stream",
     "text": [
      "/Users/vgatilov/anaconda3/lib/python3.7/site-packages/numpy/core/fromnumeric.py:3335: RuntimeWarning: Mean of empty slice.\n",
      "  out=out, **kwargs)\n",
      "/Users/vgatilov/anaconda3/lib/python3.7/site-packages/numpy/core/_methods.py:161: RuntimeWarning: invalid value encountered in double_scalars\n",
      "  ret = ret.dtype.type(ret / rcount)\n",
      "  1%|          | 2/167 [00:40<54:14, 19.72s/it]"
     ]
    },
    {
     "name": "stdout",
     "output_type": "stream",
     "text": [
      "(15, 768)\n",
      "(3, 768)\n",
      "0.0\n",
      "0.0\n",
      "Count: 158, dropped: 436\n"
     ]
    },
    {
     "name": "stderr",
     "output_type": "stream",
     "text": [
      "/Users/vgatilov/anaconda3/lib/python3.7/site-packages/numpy/core/fromnumeric.py:3335: RuntimeWarning: Mean of empty slice.\n",
      "  out=out, **kwargs)\n",
      "/Users/vgatilov/anaconda3/lib/python3.7/site-packages/numpy/core/_methods.py:161: RuntimeWarning: invalid value encountered in double_scalars\n",
      "  ret = ret.dtype.type(ret / rcount)\n",
      "  2%|▏         | 3/167 [02:42<2:17:13, 50.20s/it]"
     ]
    },
    {
     "name": "stdout",
     "output_type": "stream",
     "text": [
      "(155, 768)\n",
      "(12, 768)\n",
      "0.0\n",
      "0.0\n",
      "Count: 8, dropped: 194\n"
     ]
    },
    {
     "name": "stderr",
     "output_type": "stream",
     "text": [
      "/Users/vgatilov/anaconda3/lib/python3.7/site-packages/numpy/core/fromnumeric.py:3335: RuntimeWarning: Mean of empty slice.\n",
      "  out=out, **kwargs)\n",
      "/Users/vgatilov/anaconda3/lib/python3.7/site-packages/numpy/core/_methods.py:161: RuntimeWarning: invalid value encountered in double_scalars\n",
      "  ret = ret.dtype.type(ret / rcount)\n",
      "  2%|▏         | 4/167 [03:09<1:58:11, 43.51s/it]"
     ]
    },
    {
     "name": "stdout",
     "output_type": "stream",
     "text": [
      "(8, 768)\n",
      "(3, 768)\n",
      "0.0\n",
      "0.0\n",
      "Count: 75, dropped: 71\n"
     ]
    },
    {
     "name": "stderr",
     "output_type": "stream",
     "text": [
      "\r",
      "  3%|▎         | 5/167 [03:54<1:58:28, 43.88s/it]"
     ]
    },
    {
     "name": "stdout",
     "output_type": "stream",
     "text": [
      "(71, 768)\n",
      "(5, 768)\n",
      "0.0\n",
      "0.0\n",
      "Count: 273, dropped: 5\n"
     ]
    },
    {
     "name": "stderr",
     "output_type": "stream",
     "text": [
      "\r",
      "  4%|▎         | 6/167 [05:51<2:56:12, 65.67s/it]"
     ]
    },
    {
     "name": "stdout",
     "output_type": "stream",
     "text": [
      "(273, 768)\n",
      "(9, 768)\n",
      "0.0\n",
      "0.0\n",
      "Count: 246, dropped: 26\n"
     ]
    },
    {
     "name": "stderr",
     "output_type": "stream",
     "text": [
      "\r",
      "  4%|▍         | 7/167 [08:10<3:53:47, 87.67s/it]"
     ]
    },
    {
     "name": "stdout",
     "output_type": "stream",
     "text": [
      "(245, 768)\n",
      "(8, 768)\n",
      "0.0\n",
      "0.0\n",
      "Count: 172, dropped: 840\n"
     ]
    },
    {
     "name": "stderr",
     "output_type": "stream",
     "text": [
      "/Users/vgatilov/anaconda3/lib/python3.7/site-packages/numpy/core/fromnumeric.py:3335: RuntimeWarning: Mean of empty slice.\n",
      "  out=out, **kwargs)\n",
      "/Users/vgatilov/anaconda3/lib/python3.7/site-packages/numpy/core/_methods.py:161: RuntimeWarning: invalid value encountered in double_scalars\n",
      "  ret = ret.dtype.type(ret / rcount)\n",
      "  5%|▍         | 8/167 [09:19<3:37:21, 82.02s/it]"
     ]
    },
    {
     "name": "stdout",
     "output_type": "stream",
     "text": [
      "(172, 768)\n",
      "(5, 768)\n",
      "0.0\n",
      "0.0\n",
      "Count: 112, dropped: 122\n"
     ]
    },
    {
     "name": "stderr",
     "output_type": "stream",
     "text": [
      "/Users/vgatilov/anaconda3/lib/python3.7/site-packages/numpy/core/fromnumeric.py:3335: RuntimeWarning: Mean of empty slice.\n",
      "  out=out, **kwargs)\n",
      "/Users/vgatilov/anaconda3/lib/python3.7/site-packages/numpy/core/_methods.py:161: RuntimeWarning: invalid value encountered in double_scalars\n",
      "  ret = ret.dtype.type(ret / rcount)\n",
      "  5%|▌         | 9/167 [10:23<3:22:05, 76.74s/it]"
     ]
    },
    {
     "name": "stdout",
     "output_type": "stream",
     "text": [
      "(108, 768)\n",
      "(5, 768)\n",
      "0.0\n",
      "0.0\n"
     ]
    },
    {
     "name": "stderr",
     "output_type": "stream",
     "text": [
      "/Users/vgatilov/anaconda3/lib/python3.7/site-packages/wikipedia/wikipedia.py:389: UserWarning: No parser was explicitly specified, so I'm using the best available HTML parser for this system (\"lxml\"). This usually isn't a problem, but if you run this code on another system, or in a different virtual environment, it may use a different parser and behave differently.\n",
      "\n",
      "The code that caused this warning is on line 389 of the file /Users/vgatilov/anaconda3/lib/python3.7/site-packages/wikipedia/wikipedia.py. To get rid of this warning, pass the additional argument 'features=\"lxml\"' to the BeautifulSoup constructor.\n",
      "\n",
      "  lis = BeautifulSoup(html).find_all('li')\n"
     ]
    },
    {
     "name": "stdout",
     "output_type": "stream",
     "text": [
      "Count: 217, dropped: 25\n"
     ]
    },
    {
     "name": "stderr",
     "output_type": "stream",
     "text": [
      "/Users/vgatilov/anaconda3/lib/python3.7/site-packages/numpy/core/fromnumeric.py:3335: RuntimeWarning: Mean of empty slice.\n",
      "  out=out, **kwargs)\n",
      "/Users/vgatilov/anaconda3/lib/python3.7/site-packages/numpy/core/_methods.py:161: RuntimeWarning: invalid value encountered in double_scalars\n",
      "  ret = ret.dtype.type(ret / rcount)\n",
      "  6%|▌         | 10/167 [12:23<3:54:35, 89.65s/it]"
     ]
    },
    {
     "name": "stdout",
     "output_type": "stream",
     "text": [
      "(216, 768)\n",
      "(5, 768)\n",
      "0.0\n",
      "0.0\n"
     ]
    },
    {
     "name": "stderr",
     "output_type": "stream",
     "text": [
      "/Users/vgatilov/anaconda3/lib/python3.7/site-packages/wikipedia/wikipedia.py:389: UserWarning: No parser was explicitly specified, so I'm using the best available HTML parser for this system (\"lxml\"). This usually isn't a problem, but if you run this code on another system, or in a different virtual environment, it may use a different parser and behave differently.\n",
      "\n",
      "The code that caused this warning is on line 389 of the file /Users/vgatilov/anaconda3/lib/python3.7/site-packages/wikipedia/wikipedia.py. To get rid of this warning, pass the additional argument 'features=\"lxml\"' to the BeautifulSoup constructor.\n",
      "\n",
      "  lis = BeautifulSoup(html).find_all('li')\n"
     ]
    },
    {
     "name": "stdout",
     "output_type": "stream",
     "text": [
      "Count: 36, dropped: 83\n"
     ]
    },
    {
     "name": "stderr",
     "output_type": "stream",
     "text": [
      "\r",
      "  7%|▋         | 11/167 [13:00<3:12:25, 74.01s/it]"
     ]
    },
    {
     "name": "stdout",
     "output_type": "stream",
     "text": [
      "(36, 768)\n",
      "(6, 768)\n",
      "0.0\n",
      "0.0\n",
      "Count: 675, dropped: 313\n"
     ]
    },
    {
     "name": "stderr",
     "output_type": "stream",
     "text": [
      "/Users/vgatilov/anaconda3/lib/python3.7/site-packages/numpy/core/fromnumeric.py:3335: RuntimeWarning: Mean of empty slice.\n",
      "  out=out, **kwargs)\n",
      "/Users/vgatilov/anaconda3/lib/python3.7/site-packages/numpy/core/_methods.py:161: RuntimeWarning: invalid value encountered in double_scalars\n",
      "  ret = ret.dtype.type(ret / rcount)\n",
      "  7%|▋         | 12/167 [18:12<6:15:36, 145.39s/it]"
     ]
    },
    {
     "name": "stdout",
     "output_type": "stream",
     "text": [
      "(672, 768)\n",
      "(7, 768)\n",
      "0.0\n",
      "0.0\n",
      "Count: 109, dropped: 326\n"
     ]
    },
    {
     "name": "stderr",
     "output_type": "stream",
     "text": [
      "/Users/vgatilov/anaconda3/lib/python3.7/site-packages/numpy/core/fromnumeric.py:3335: RuntimeWarning: Mean of empty slice.\n",
      "  out=out, **kwargs)\n",
      "/Users/vgatilov/anaconda3/lib/python3.7/site-packages/numpy/core/_methods.py:161: RuntimeWarning: invalid value encountered in double_scalars\n",
      "  ret = ret.dtype.type(ret / rcount)\n",
      "  8%|▊         | 13/167 [19:19<5:12:35, 121.79s/it]"
     ]
    },
    {
     "name": "stdout",
     "output_type": "stream",
     "text": [
      "(108, 768)\n",
      "(5, 768)\n",
      "0.0\n",
      "0.0\n",
      "Count: 91, dropped: 162\n"
     ]
    },
    {
     "name": "stderr",
     "output_type": "stream",
     "text": [
      "/Users/vgatilov/anaconda3/lib/python3.7/site-packages/numpy/core/fromnumeric.py:3335: RuntimeWarning: Mean of empty slice.\n",
      "  out=out, **kwargs)\n",
      "/Users/vgatilov/anaconda3/lib/python3.7/site-packages/numpy/core/_methods.py:161: RuntimeWarning: invalid value encountered in double_scalars\n",
      "  ret = ret.dtype.type(ret / rcount)\n",
      "  8%|▊         | 14/167 [20:21<4:24:34, 103.76s/it]"
     ]
    },
    {
     "name": "stdout",
     "output_type": "stream",
     "text": [
      "(90, 768)\n",
      "(6, 768)\n",
      "0.0\n",
      "0.0\n"
     ]
    },
    {
     "name": "stderr",
     "output_type": "stream",
     "text": [
      "/Users/vgatilov/anaconda3/lib/python3.7/site-packages/wikipedia/wikipedia.py:389: UserWarning: No parser was explicitly specified, so I'm using the best available HTML parser for this system (\"lxml\"). This usually isn't a problem, but if you run this code on another system, or in a different virtual environment, it may use a different parser and behave differently.\n",
      "\n",
      "The code that caused this warning is on line 389 of the file /Users/vgatilov/anaconda3/lib/python3.7/site-packages/wikipedia/wikipedia.py. To get rid of this warning, pass the additional argument 'features=\"lxml\"' to the BeautifulSoup constructor.\n",
      "\n",
      "  lis = BeautifulSoup(html).find_all('li')\n"
     ]
    },
    {
     "name": "stdout",
     "output_type": "stream",
     "text": [
      "Count: 51, dropped: 198\n"
     ]
    },
    {
     "name": "stderr",
     "output_type": "stream",
     "text": [
      "/Users/vgatilov/anaconda3/lib/python3.7/site-packages/numpy/core/fromnumeric.py:3335: RuntimeWarning: Mean of empty slice.\n",
      "  out=out, **kwargs)\n",
      "/Users/vgatilov/anaconda3/lib/python3.7/site-packages/numpy/core/_methods.py:161: RuntimeWarning: invalid value encountered in double_scalars\n",
      "  ret = ret.dtype.type(ret / rcount)\n",
      "  9%|▉         | 15/167 [20:50<3:26:23, 81.47s/it] "
     ]
    },
    {
     "name": "stdout",
     "output_type": "stream",
     "text": [
      "(51, 768)\n",
      "(3, 768)\n",
      "0.0\n",
      "0.0\n",
      "Count: 5, dropped: 196\n"
     ]
    },
    {
     "name": "stderr",
     "output_type": "stream",
     "text": [
      "/Users/vgatilov/anaconda3/lib/python3.7/site-packages/numpy/core/fromnumeric.py:3335: RuntimeWarning: Mean of empty slice.\n",
      "  out=out, **kwargs)\n",
      "/Users/vgatilov/anaconda3/lib/python3.7/site-packages/numpy/core/_methods.py:161: RuntimeWarning: invalid value encountered in double_scalars\n",
      "  ret = ret.dtype.type(ret / rcount)\n",
      " 10%|▉         | 16/167 [21:33<2:55:38, 69.79s/it]"
     ]
    },
    {
     "name": "stdout",
     "output_type": "stream",
     "text": [
      "(5, 768)\n",
      "(2, 768)\n",
      "0.0\n",
      "0.0\n",
      "Count: 193, dropped: 308\n"
     ]
    },
    {
     "name": "stderr",
     "output_type": "stream",
     "text": [
      "/Users/vgatilov/anaconda3/lib/python3.7/site-packages/numpy/core/fromnumeric.py:3335: RuntimeWarning: Mean of empty slice.\n",
      "  out=out, **kwargs)\n",
      "/Users/vgatilov/anaconda3/lib/python3.7/site-packages/numpy/core/_methods.py:161: RuntimeWarning: invalid value encountered in double_scalars\n",
      "  ret = ret.dtype.type(ret / rcount)\n",
      " 10%|█         | 17/167 [23:29<3:29:27, 83.78s/it]"
     ]
    },
    {
     "name": "stdout",
     "output_type": "stream",
     "text": [
      "(190, 768)\n",
      "(4, 768)\n",
      "0.0\n",
      "0.0\n",
      "Count: 25, dropped: 47\n"
     ]
    },
    {
     "name": "stderr",
     "output_type": "stream",
     "text": [
      "/Users/vgatilov/anaconda3/lib/python3.7/site-packages/numpy/core/fromnumeric.py:3335: RuntimeWarning: Mean of empty slice.\n",
      "  out=out, **kwargs)\n",
      "/Users/vgatilov/anaconda3/lib/python3.7/site-packages/numpy/core/_methods.py:161: RuntimeWarning: invalid value encountered in double_scalars\n",
      "  ret = ret.dtype.type(ret / rcount)\n",
      " 11%|█         | 18/167 [24:03<2:51:01, 68.87s/it]"
     ]
    },
    {
     "name": "stdout",
     "output_type": "stream",
     "text": [
      "(25, 768)\n",
      "(4, 768)\n",
      "0.0\n",
      "0.0\n",
      "Count: 80, dropped: 128\n"
     ]
    },
    {
     "name": "stderr",
     "output_type": "stream",
     "text": [
      "\r",
      " 11%|█▏        | 19/167 [24:56<2:38:24, 64.22s/it]"
     ]
    },
    {
     "name": "stdout",
     "output_type": "stream",
     "text": [
      "(80, 768)\n",
      "(6, 768)\n",
      "0.0\n",
      "0.0\n",
      "Count: 223, dropped: 154\n"
     ]
    },
    {
     "name": "stderr",
     "output_type": "stream",
     "text": [
      "\r",
      " 12%|█▏        | 20/167 [26:36<3:03:34, 74.93s/it]"
     ]
    },
    {
     "name": "stdout",
     "output_type": "stream",
     "text": [
      "(223, 768)\n",
      "(7, 768)\n",
      "0.0\n",
      "0.0\n",
      "Count: 62, dropped: 239\n"
     ]
    },
    {
     "name": "stderr",
     "output_type": "stream",
     "text": [
      "\r",
      " 13%|█▎        | 21/167 [27:18<2:37:46, 64.84s/it]"
     ]
    },
    {
     "name": "stdout",
     "output_type": "stream",
     "text": [
      "(62, 768)\n",
      "(6, 768)\n",
      "0.0\n",
      "0.0\n"
     ]
    },
    {
     "name": "stderr",
     "output_type": "stream",
     "text": [
      "/Users/vgatilov/anaconda3/lib/python3.7/site-packages/wikipedia/wikipedia.py:389: UserWarning: No parser was explicitly specified, so I'm using the best available HTML parser for this system (\"lxml\"). This usually isn't a problem, but if you run this code on another system, or in a different virtual environment, it may use a different parser and behave differently.\n",
      "\n",
      "The code that caused this warning is on line 389 of the file /Users/vgatilov/anaconda3/lib/python3.7/site-packages/wikipedia/wikipedia.py. To get rid of this warning, pass the additional argument 'features=\"lxml\"' to the BeautifulSoup constructor.\n",
      "\n",
      "  lis = BeautifulSoup(html).find_all('li')\n"
     ]
    },
    {
     "name": "stdout",
     "output_type": "stream",
     "text": [
      "Count: 81, dropped: 47\n"
     ]
    },
    {
     "name": "stderr",
     "output_type": "stream",
     "text": [
      "\r",
      " 13%|█▎        | 22/167 [28:16<2:31:38, 62.75s/it]"
     ]
    },
    {
     "name": "stdout",
     "output_type": "stream",
     "text": [
      "(81, 768)\n",
      "(7, 768)\n",
      "0.0\n",
      "0.0\n",
      "Count: 69, dropped: 278\n"
     ]
    },
    {
     "name": "stderr",
     "output_type": "stream",
     "text": [
      "\r",
      " 14%|█▍        | 23/167 [29:09<2:23:56, 59.98s/it]"
     ]
    },
    {
     "name": "stdout",
     "output_type": "stream",
     "text": [
      "(69, 768)\n",
      "(7, 768)\n",
      "0.0\n",
      "0.0\n"
     ]
    },
    {
     "name": "stderr",
     "output_type": "stream",
     "text": [
      "/Users/vgatilov/anaconda3/lib/python3.7/site-packages/wikipedia/wikipedia.py:389: UserWarning: No parser was explicitly specified, so I'm using the best available HTML parser for this system (\"lxml\"). This usually isn't a problem, but if you run this code on another system, or in a different virtual environment, it may use a different parser and behave differently.\n",
      "\n",
      "The code that caused this warning is on line 389 of the file /Users/vgatilov/anaconda3/lib/python3.7/site-packages/wikipedia/wikipedia.py. To get rid of this warning, pass the additional argument 'features=\"lxml\"' to the BeautifulSoup constructor.\n",
      "\n",
      "  lis = BeautifulSoup(html).find_all('li')\n"
     ]
    },
    {
     "name": "stdout",
     "output_type": "stream",
     "text": [
      "Count: 129, dropped: 480\n"
     ]
    },
    {
     "name": "stderr",
     "output_type": "stream",
     "text": [
      "/Users/vgatilov/anaconda3/lib/python3.7/site-packages/numpy/core/fromnumeric.py:3335: RuntimeWarning: Mean of empty slice.\n",
      "  out=out, **kwargs)\n",
      "/Users/vgatilov/anaconda3/lib/python3.7/site-packages/numpy/core/_methods.py:161: RuntimeWarning: invalid value encountered in double_scalars\n",
      "  ret = ret.dtype.type(ret / rcount)\n",
      " 14%|█▍        | 24/167 [30:31<2:38:53, 66.67s/it]"
     ]
    },
    {
     "name": "stdout",
     "output_type": "stream",
     "text": [
      "(127, 768)\n",
      "(4, 768)\n",
      "0.0\n",
      "0.0\n"
     ]
    },
    {
     "name": "stderr",
     "output_type": "stream",
     "text": [
      "/Users/vgatilov/anaconda3/lib/python3.7/site-packages/wikipedia/wikipedia.py:389: UserWarning: No parser was explicitly specified, so I'm using the best available HTML parser for this system (\"lxml\"). This usually isn't a problem, but if you run this code on another system, or in a different virtual environment, it may use a different parser and behave differently.\n",
      "\n",
      "The code that caused this warning is on line 389 of the file /Users/vgatilov/anaconda3/lib/python3.7/site-packages/wikipedia/wikipedia.py. To get rid of this warning, pass the additional argument 'features=\"lxml\"' to the BeautifulSoup constructor.\n",
      "\n",
      "  lis = BeautifulSoup(html).find_all('li')\n"
     ]
    },
    {
     "name": "stdout",
     "output_type": "stream",
     "text": [
      "Count: 197, dropped: 69\n"
     ]
    },
    {
     "name": "stderr",
     "output_type": "stream",
     "text": [
      "\r",
      " 15%|█▍        | 25/167 [32:22<3:08:54, 79.82s/it]"
     ]
    },
    {
     "name": "stdout",
     "output_type": "stream",
     "text": [
      "(188, 768)\n",
      "(5, 768)\n",
      "0.0\n",
      "0.0\n"
     ]
    },
    {
     "name": "stderr",
     "output_type": "stream",
     "text": [
      "/Users/vgatilov/anaconda3/lib/python3.7/site-packages/wikipedia/wikipedia.py:389: UserWarning: No parser was explicitly specified, so I'm using the best available HTML parser for this system (\"lxml\"). This usually isn't a problem, but if you run this code on another system, or in a different virtual environment, it may use a different parser and behave differently.\n",
      "\n",
      "The code that caused this warning is on line 389 of the file /Users/vgatilov/anaconda3/lib/python3.7/site-packages/wikipedia/wikipedia.py. To get rid of this warning, pass the additional argument 'features=\"lxml\"' to the BeautifulSoup constructor.\n",
      "\n",
      "  lis = BeautifulSoup(html).find_all('li')\n"
     ]
    },
    {
     "name": "stdout",
     "output_type": "stream",
     "text": [
      "Count: 33, dropped: 226\n"
     ]
    },
    {
     "name": "stderr",
     "output_type": "stream",
     "text": [
      "/Users/vgatilov/anaconda3/lib/python3.7/site-packages/numpy/core/fromnumeric.py:3335: RuntimeWarning: Mean of empty slice.\n",
      "  out=out, **kwargs)\n",
      "/Users/vgatilov/anaconda3/lib/python3.7/site-packages/numpy/core/_methods.py:161: RuntimeWarning: invalid value encountered in double_scalars\n",
      "  ret = ret.dtype.type(ret / rcount)\n",
      " 16%|█▌        | 26/167 [33:07<2:42:58, 69.35s/it]"
     ]
    },
    {
     "name": "stdout",
     "output_type": "stream",
     "text": [
      "(33, 768)\n",
      "(4, 768)\n",
      "0.0\n",
      "0.0\n",
      "Count: 71, dropped: 395\n"
     ]
    },
    {
     "name": "stderr",
     "output_type": "stream",
     "text": [
      "/Users/vgatilov/anaconda3/lib/python3.7/site-packages/numpy/core/fromnumeric.py:3335: RuntimeWarning: Mean of empty slice.\n",
      "  out=out, **kwargs)\n",
      "/Users/vgatilov/anaconda3/lib/python3.7/site-packages/numpy/core/_methods.py:161: RuntimeWarning: invalid value encountered in double_scalars\n",
      "  ret = ret.dtype.type(ret / rcount)\n",
      " 16%|█▌        | 27/167 [33:58<2:29:13, 63.96s/it]"
     ]
    },
    {
     "name": "stdout",
     "output_type": "stream",
     "text": [
      "(69, 768)\n",
      "(5, 768)\n",
      "0.0\n",
      "0.0\n",
      "Count: 213, dropped: 47\n"
     ]
    },
    {
     "name": "stderr",
     "output_type": "stream",
     "text": [
      "\r",
      " 17%|█▋        | 28/167 [36:13<3:17:46, 85.37s/it]"
     ]
    },
    {
     "name": "stdout",
     "output_type": "stream",
     "text": [
      "(208, 768)\n",
      "(6, 768)\n",
      "0.0\n",
      "0.0\n",
      "Count: 605, dropped: 138\n"
     ]
    },
    {
     "name": "stderr",
     "output_type": "stream",
     "text": [
      "\r",
      " 17%|█▋        | 29/167 [40:53<5:30:23, 143.65s/it]"
     ]
    },
    {
     "name": "stdout",
     "output_type": "stream",
     "text": [
      "(600, 768)\n",
      "(12, 768)\n",
      "0.0\n",
      "0.0\n"
     ]
    },
    {
     "name": "stderr",
     "output_type": "stream",
     "text": [
      "/Users/vgatilov/anaconda3/lib/python3.7/site-packages/wikipedia/wikipedia.py:389: UserWarning: No parser was explicitly specified, so I'm using the best available HTML parser for this system (\"lxml\"). This usually isn't a problem, but if you run this code on another system, or in a different virtual environment, it may use a different parser and behave differently.\n",
      "\n",
      "The code that caused this warning is on line 389 of the file /Users/vgatilov/anaconda3/lib/python3.7/site-packages/wikipedia/wikipedia.py. To get rid of this warning, pass the additional argument 'features=\"lxml\"' to the BeautifulSoup constructor.\n",
      "\n",
      "  lis = BeautifulSoup(html).find_all('li')\n"
     ]
    },
    {
     "name": "stdout",
     "output_type": "stream",
     "text": [
      "Count: 18, dropped: 24\n"
     ]
    },
    {
     "name": "stderr",
     "output_type": "stream",
     "text": [
      "/Users/vgatilov/anaconda3/lib/python3.7/site-packages/numpy/core/fromnumeric.py:3335: RuntimeWarning: Mean of empty slice.\n",
      "  out=out, **kwargs)\n",
      "/Users/vgatilov/anaconda3/lib/python3.7/site-packages/numpy/core/_methods.py:161: RuntimeWarning: invalid value encountered in double_scalars\n",
      "  ret = ret.dtype.type(ret / rcount)\n",
      " 18%|█▊        | 30/167 [41:26<4:11:59, 110.36s/it]"
     ]
    },
    {
     "name": "stdout",
     "output_type": "stream",
     "text": [
      "(12, 768)\n",
      "(2, 768)\n",
      "0.0\n",
      "0.0\n",
      "Count: 80, dropped: 152\n"
     ]
    },
    {
     "name": "stderr",
     "output_type": "stream",
     "text": [
      "\r",
      " 19%|█▊        | 31/167 [42:14<3:28:05, 91.81s/it] "
     ]
    },
    {
     "name": "stdout",
     "output_type": "stream",
     "text": [
      "(65, 768)\n",
      "(6, 768)\n",
      "0.0\n",
      "0.0\n",
      "Count: 97, dropped: 224\n"
     ]
    },
    {
     "name": "stderr",
     "output_type": "stream",
     "text": [
      "/Users/vgatilov/anaconda3/lib/python3.7/site-packages/numpy/core/fromnumeric.py:3335: RuntimeWarning: Mean of empty slice.\n",
      "  out=out, **kwargs)\n",
      "/Users/vgatilov/anaconda3/lib/python3.7/site-packages/numpy/core/_methods.py:161: RuntimeWarning: invalid value encountered in double_scalars\n",
      "  ret = ret.dtype.type(ret / rcount)\n",
      " 19%|█▉        | 32/167 [43:34<3:18:37, 88.28s/it]"
     ]
    },
    {
     "name": "stdout",
     "output_type": "stream",
     "text": [
      "(96, 768)\n",
      "(8, 768)\n",
      "0.0\n",
      "0.0\n",
      "Count: 288, dropped: 551\n"
     ]
    },
    {
     "name": "stderr",
     "output_type": "stream",
     "text": [
      "/Users/vgatilov/anaconda3/lib/python3.7/site-packages/numpy/core/fromnumeric.py:3335: RuntimeWarning: Mean of empty slice.\n",
      "  out=out, **kwargs)\n",
      "/Users/vgatilov/anaconda3/lib/python3.7/site-packages/numpy/core/_methods.py:161: RuntimeWarning: invalid value encountered in double_scalars\n",
      "  ret = ret.dtype.type(ret / rcount)\n",
      " 20%|█▉        | 33/167 [45:46<3:46:25, 101.38s/it]"
     ]
    },
    {
     "name": "stdout",
     "output_type": "stream",
     "text": [
      "(283, 768)\n",
      "(6, 768)\n",
      "0.0\n",
      "0.0\n",
      "Count: 68, dropped: 93\n"
     ]
    },
    {
     "name": "stderr",
     "output_type": "stream",
     "text": [
      "/Users/vgatilov/anaconda3/lib/python3.7/site-packages/numpy/core/fromnumeric.py:3335: RuntimeWarning: Mean of empty slice.\n",
      "  out=out, **kwargs)\n",
      "/Users/vgatilov/anaconda3/lib/python3.7/site-packages/numpy/core/_methods.py:161: RuntimeWarning: invalid value encountered in double_scalars\n",
      "  ret = ret.dtype.type(ret / rcount)\n",
      " 20%|██        | 34/167 [46:34<3:09:01, 85.27s/it] "
     ]
    },
    {
     "name": "stdout",
     "output_type": "stream",
     "text": [
      "(65, 768)\n",
      "(2, 768)\n",
      "0.0\n",
      "0.0\n",
      "Count: 126, dropped: 101\n"
     ]
    },
    {
     "name": "stderr",
     "output_type": "stream",
     "text": [
      "/Users/vgatilov/anaconda3/lib/python3.7/site-packages/numpy/core/fromnumeric.py:3335: RuntimeWarning: Mean of empty slice.\n",
      "  out=out, **kwargs)\n",
      "/Users/vgatilov/anaconda3/lib/python3.7/site-packages/numpy/core/_methods.py:161: RuntimeWarning: invalid value encountered in double_scalars\n",
      "  ret = ret.dtype.type(ret / rcount)\n",
      " 21%|██        | 35/167 [47:56<3:05:29, 84.32s/it]"
     ]
    },
    {
     "name": "stdout",
     "output_type": "stream",
     "text": [
      "(125, 768)\n",
      "(5, 768)\n",
      "0.0\n",
      "0.0\n",
      "Count: 16, dropped: 188\n"
     ]
    },
    {
     "name": "stderr",
     "output_type": "stream",
     "text": [
      "/Users/vgatilov/anaconda3/lib/python3.7/site-packages/numpy/core/fromnumeric.py:3335: RuntimeWarning: Mean of empty slice.\n",
      "  out=out, **kwargs)\n",
      "/Users/vgatilov/anaconda3/lib/python3.7/site-packages/numpy/core/_methods.py:161: RuntimeWarning: invalid value encountered in double_scalars\n",
      "  ret = ret.dtype.type(ret / rcount)\n",
      " 22%|██▏       | 36/167 [48:28<2:29:33, 68.50s/it]"
     ]
    },
    {
     "name": "stdout",
     "output_type": "stream",
     "text": [
      "(16, 768)\n",
      "(6, 768)\n",
      "0.0\n",
      "0.0\n",
      "Count: 41, dropped: 337\n"
     ]
    },
    {
     "name": "stderr",
     "output_type": "stream",
     "text": [
      "/Users/vgatilov/anaconda3/lib/python3.7/site-packages/numpy/core/fromnumeric.py:3335: RuntimeWarning: Mean of empty slice.\n",
      "  out=out, **kwargs)\n",
      "/Users/vgatilov/anaconda3/lib/python3.7/site-packages/numpy/core/_methods.py:161: RuntimeWarning: invalid value encountered in double_scalars\n",
      "  ret = ret.dtype.type(ret / rcount)\n",
      " 22%|██▏       | 37/167 [49:13<2:13:29, 61.61s/it]"
     ]
    },
    {
     "name": "stdout",
     "output_type": "stream",
     "text": [
      "(40, 768)\n",
      "(5, 768)\n",
      "0.0\n",
      "0.0\n",
      "Count: 242, dropped: 70\n"
     ]
    },
    {
     "name": "stderr",
     "output_type": "stream",
     "text": [
      "/Users/vgatilov/anaconda3/lib/python3.7/site-packages/numpy/core/fromnumeric.py:3335: RuntimeWarning: Mean of empty slice.\n",
      "  out=out, **kwargs)\n",
      "/Users/vgatilov/anaconda3/lib/python3.7/site-packages/numpy/core/_methods.py:161: RuntimeWarning: invalid value encountered in double_scalars\n",
      "  ret = ret.dtype.type(ret / rcount)\n",
      " 23%|██▎       | 38/167 [51:03<2:43:29, 76.05s/it]"
     ]
    },
    {
     "name": "stdout",
     "output_type": "stream",
     "text": [
      "(241, 768)\n",
      "(6, 768)\n",
      "0.0\n",
      "0.0\n",
      "Count: 17, dropped: 99\n"
     ]
    },
    {
     "name": "stderr",
     "output_type": "stream",
     "text": [
      "/Users/vgatilov/anaconda3/lib/python3.7/site-packages/numpy/core/fromnumeric.py:3335: RuntimeWarning: Mean of empty slice.\n",
      "  out=out, **kwargs)\n",
      "/Users/vgatilov/anaconda3/lib/python3.7/site-packages/numpy/core/_methods.py:161: RuntimeWarning: invalid value encountered in double_scalars\n",
      "  ret = ret.dtype.type(ret / rcount)\n",
      " 23%|██▎       | 39/167 [51:30<2:10:42, 61.27s/it]"
     ]
    },
    {
     "name": "stdout",
     "output_type": "stream",
     "text": [
      "(17, 768)\n",
      "(2, 768)\n",
      "0.0\n",
      "0.0\n"
     ]
    },
    {
     "name": "stderr",
     "output_type": "stream",
     "text": [
      "\r",
      " 23%|██▎       | 39/167 [52:06<2:51:00, 80.16s/it]"
     ]
    },
    {
     "name": "stdout",
     "output_type": "stream",
     "text": [
      "Count: 0, dropped: 0\n"
     ]
    },
    {
     "name": "stderr",
     "output_type": "stream",
     "text": [
      "\n"
     ]
    },
    {
     "ename": "IndexError",
     "evalue": "list index out of range",
     "output_type": "error",
     "traceback": [
      "\u001b[0;31m---------------------------------------------------------------------------\u001b[0m",
      "\u001b[0;31mIndexError\u001b[0m                                Traceback (most recent call last)",
      "\u001b[0;32m<ipython-input-11-df895ee43800>\u001b[0m in \u001b[0;36m<module>\u001b[0;34m\u001b[0m\n\u001b[1;32m      3\u001b[0m \u001b[0mcur_yhat\u001b[0m \u001b[0;34m=\u001b[0m \u001b[0;34m[\u001b[0m\u001b[0;34m]\u001b[0m\u001b[0;34m\u001b[0m\u001b[0;34m\u001b[0m\u001b[0m\n\u001b[1;32m      4\u001b[0m \u001b[0;32mfor\u001b[0m \u001b[0msent\u001b[0m \u001b[0;32min\u001b[0m \u001b[0mtqdm\u001b[0m\u001b[0;34m(\u001b[0m\u001b[0mdf\u001b[0m\u001b[0;34m[\u001b[0m\u001b[0;34m'sent'\u001b[0m\u001b[0;34m]\u001b[0m\u001b[0;34m.\u001b[0m\u001b[0mvalues\u001b[0m\u001b[0;34m)\u001b[0m\u001b[0;34m:\u001b[0m\u001b[0;34m\u001b[0m\u001b[0;34m\u001b[0m\u001b[0m\n\u001b[0;32m----> 5\u001b[0;31m     \u001b[0mcur_yhat\u001b[0m\u001b[0;34m.\u001b[0m\u001b[0mappend\u001b[0m\u001b[0;34m(\u001b[0m\u001b[0mprocess_sentence\u001b[0m\u001b[0;34m(\u001b[0m\u001b[0msent\u001b[0m\u001b[0;34m,\u001b[0m \u001b[0mmodels\u001b[0m\u001b[0;34m,\u001b[0m \u001b[0mcnt\u001b[0m\u001b[0;34m,\u001b[0m \u001b[0mmodel_tag\u001b[0m\u001b[0;34m)\u001b[0m\u001b[0;34m)\u001b[0m\u001b[0;34m\u001b[0m\u001b[0;34m\u001b[0m\u001b[0m\n\u001b[0m",
      "\u001b[0;32m<ipython-input-8-657b6da9bd35>\u001b[0m in \u001b[0;36mprocess_sentence\u001b[0;34m(sent, models, cnt, model_tag)\u001b[0m\n\u001b[1;32m    376\u001b[0m         \u001b[0;32mif\u001b[0m \u001b[0mlen\u001b[0m\u001b[0;34m(\u001b[0m\u001b[0mpar\u001b[0m\u001b[0;34m.\u001b[0m\u001b[0msplit\u001b[0m\u001b[0;34m(\u001b[0m\u001b[0;34m' '\u001b[0m\u001b[0;34m)\u001b[0m\u001b[0;34m)\u001b[0m \u001b[0;34m<\u001b[0m \u001b[0;36m200\u001b[0m\u001b[0;34m:\u001b[0m\u001b[0;34m\u001b[0m\u001b[0;34m\u001b[0m\u001b[0m\n\u001b[1;32m    377\u001b[0m             \u001b[0mtmp_par\u001b[0m\u001b[0;34m.\u001b[0m\u001b[0mappend\u001b[0m\u001b[0;34m(\u001b[0m\u001b[0mpar\u001b[0m\u001b[0;34m)\u001b[0m\u001b[0;34m\u001b[0m\u001b[0;34m\u001b[0m\u001b[0m\n\u001b[0;32m--> 378\u001b[0;31m     \u001b[0m_\u001b[0m\u001b[0;34m,\u001b[0m \u001b[0m_\u001b[0m\u001b[0;34m,\u001b[0m \u001b[0m_\u001b[0m\u001b[0;34m,\u001b[0m \u001b[0m_\u001b[0m\u001b[0;34m,\u001b[0m \u001b[0m_\u001b[0m\u001b[0;34m,\u001b[0m \u001b[0m_\u001b[0m\u001b[0;34m,\u001b[0m \u001b[0mbert_pooler_outputs\u001b[0m \u001b[0;34m=\u001b[0m \u001b[0mmodels\u001b[0m\u001b[0;34m[\u001b[0m\u001b[0;36m1\u001b[0m\u001b[0;34m]\u001b[0m\u001b[0;34m(\u001b[0m\u001b[0mtmp_par\u001b[0m\u001b[0;34m)\u001b[0m\u001b[0;34m\u001b[0m\u001b[0;34m\u001b[0m\u001b[0m\n\u001b[0m\u001b[1;32m    379\u001b[0m     \u001b[0mprint\u001b[0m\u001b[0;34m(\u001b[0m\u001b[0mbert_pooler_outputs\u001b[0m\u001b[0;34m.\u001b[0m\u001b[0mshape\u001b[0m\u001b[0;34m)\u001b[0m\u001b[0;34m\u001b[0m\u001b[0;34m\u001b[0m\u001b[0m\n\u001b[1;32m    380\u001b[0m     \u001b[0mprint\u001b[0m\u001b[0;34m(\u001b[0m\u001b[0msent_vectors_bert\u001b[0m\u001b[0;34m.\u001b[0m\u001b[0mshape\u001b[0m\u001b[0;34m)\u001b[0m\u001b[0;34m\u001b[0m\u001b[0;34m\u001b[0m\u001b[0m\n",
      "\u001b[0;32m~/anaconda3/lib/python3.7/site-packages/deeppavlov/core/common/chainer.py\u001b[0m in \u001b[0;36m__call__\u001b[0;34m(self, *args)\u001b[0m\n\u001b[1;32m    205\u001b[0m \u001b[0;34m\u001b[0m\u001b[0m\n\u001b[1;32m    206\u001b[0m     \u001b[0;32mdef\u001b[0m \u001b[0m__call__\u001b[0m\u001b[0;34m(\u001b[0m\u001b[0mself\u001b[0m\u001b[0;34m,\u001b[0m \u001b[0;34m*\u001b[0m\u001b[0margs\u001b[0m\u001b[0;34m)\u001b[0m\u001b[0;34m:\u001b[0m\u001b[0;34m\u001b[0m\u001b[0;34m\u001b[0m\u001b[0m\n\u001b[0;32m--> 207\u001b[0;31m         \u001b[0;32mreturn\u001b[0m \u001b[0mself\u001b[0m\u001b[0;34m.\u001b[0m\u001b[0m_compute\u001b[0m\u001b[0;34m(\u001b[0m\u001b[0;34m*\u001b[0m\u001b[0margs\u001b[0m\u001b[0;34m,\u001b[0m \u001b[0mparam_names\u001b[0m\u001b[0;34m=\u001b[0m\u001b[0mself\u001b[0m\u001b[0;34m.\u001b[0m\u001b[0min_x\u001b[0m\u001b[0;34m,\u001b[0m \u001b[0mpipe\u001b[0m\u001b[0;34m=\u001b[0m\u001b[0mself\u001b[0m\u001b[0;34m.\u001b[0m\u001b[0mpipe\u001b[0m\u001b[0;34m,\u001b[0m \u001b[0mtargets\u001b[0m\u001b[0;34m=\u001b[0m\u001b[0mself\u001b[0m\u001b[0;34m.\u001b[0m\u001b[0mout_params\u001b[0m\u001b[0;34m)\u001b[0m\u001b[0;34m\u001b[0m\u001b[0;34m\u001b[0m\u001b[0m\n\u001b[0m\u001b[1;32m    208\u001b[0m \u001b[0;34m\u001b[0m\u001b[0m\n\u001b[1;32m    209\u001b[0m     \u001b[0;34m@\u001b[0m\u001b[0mstaticmethod\u001b[0m\u001b[0;34m\u001b[0m\u001b[0;34m\u001b[0m\u001b[0m\n",
      "\u001b[0;32m~/anaconda3/lib/python3.7/site-packages/deeppavlov/core/common/chainer.py\u001b[0m in \u001b[0;36m_compute\u001b[0;34m(***failed resolving arguments***)\u001b[0m\n\u001b[1;32m    228\u001b[0m                 \u001b[0mres\u001b[0m \u001b[0;34m=\u001b[0m \u001b[0mcomponent\u001b[0m\u001b[0;34m.\u001b[0m\u001b[0m__call__\u001b[0m\u001b[0;34m(\u001b[0m\u001b[0;34m**\u001b[0m\u001b[0mdict\u001b[0m\u001b[0;34m(\u001b[0m\u001b[0mzip\u001b[0m\u001b[0;34m(\u001b[0m\u001b[0min_keys\u001b[0m\u001b[0;34m,\u001b[0m \u001b[0mx\u001b[0m\u001b[0;34m)\u001b[0m\u001b[0;34m)\u001b[0m\u001b[0;34m)\u001b[0m\u001b[0;34m\u001b[0m\u001b[0;34m\u001b[0m\u001b[0m\n\u001b[1;32m    229\u001b[0m             \u001b[0;32melse\u001b[0m\u001b[0;34m:\u001b[0m\u001b[0;34m\u001b[0m\u001b[0;34m\u001b[0m\u001b[0m\n\u001b[0;32m--> 230\u001b[0;31m                 \u001b[0mres\u001b[0m \u001b[0;34m=\u001b[0m \u001b[0mcomponent\u001b[0m\u001b[0;34m.\u001b[0m\u001b[0m__call__\u001b[0m\u001b[0;34m(\u001b[0m\u001b[0;34m*\u001b[0m\u001b[0mx\u001b[0m\u001b[0;34m)\u001b[0m\u001b[0;34m\u001b[0m\u001b[0;34m\u001b[0m\u001b[0m\n\u001b[0m\u001b[1;32m    231\u001b[0m             \u001b[0;32mif\u001b[0m \u001b[0mlen\u001b[0m\u001b[0;34m(\u001b[0m\u001b[0mout_params\u001b[0m\u001b[0;34m)\u001b[0m \u001b[0;34m==\u001b[0m \u001b[0;36m1\u001b[0m\u001b[0;34m:\u001b[0m\u001b[0;34m\u001b[0m\u001b[0;34m\u001b[0m\u001b[0m\n\u001b[1;32m    232\u001b[0m                 \u001b[0mmem\u001b[0m\u001b[0;34m[\u001b[0m\u001b[0mout_params\u001b[0m\u001b[0;34m[\u001b[0m\u001b[0;36m0\u001b[0m\u001b[0;34m]\u001b[0m\u001b[0;34m]\u001b[0m \u001b[0;34m=\u001b[0m \u001b[0mres\u001b[0m\u001b[0;34m\u001b[0m\u001b[0;34m\u001b[0m\u001b[0m\n",
      "\u001b[0;32m~/anaconda3/lib/python3.7/site-packages/deeppavlov/models/preprocessors/transformers_preprocessor.py\u001b[0m in \u001b[0;36m__call__\u001b[0;34m(self, tokens_batch)\u001b[0m\n\u001b[1;32m     48\u001b[0m             \u001b[0mTuple\u001b[0m\u001b[0;34m[\u001b[0m\u001b[0mList\u001b[0m\u001b[0;34m[\u001b[0m\u001b[0mList\u001b[0m\u001b[0;34m[\u001b[0m\u001b[0mstr\u001b[0m\u001b[0;34m]\u001b[0m\u001b[0;34m]\u001b[0m\u001b[0;34m,\u001b[0m \u001b[0mList\u001b[0m\u001b[0;34m[\u001b[0m\u001b[0mList\u001b[0m\u001b[0;34m[\u001b[0m\u001b[0mstr\u001b[0m\u001b[0;34m]\u001b[0m\u001b[0;34m]\u001b[0m\u001b[0;34m,\u001b[0m \u001b[0mnp\u001b[0m\u001b[0;34m.\u001b[0m\u001b[0mndarray\u001b[0m\u001b[0;34m,\u001b[0m \u001b[0mnp\u001b[0m\u001b[0;34m.\u001b[0m\u001b[0mndarray\u001b[0m\u001b[0;34m,\u001b[0m \u001b[0mnp\u001b[0m\u001b[0;34m.\u001b[0m\u001b[0mndarray\u001b[0m\u001b[0;34m]\u001b[0m\u001b[0;34m:\u001b[0m\u001b[0;34m\u001b[0m\u001b[0;34m\u001b[0m\u001b[0m\n\u001b[1;32m     49\u001b[0m \u001b[0;34m\u001b[0m\u001b[0m\n\u001b[0;32m---> 50\u001b[0;31m         \u001b[0;32mif\u001b[0m \u001b[0misinstance\u001b[0m\u001b[0;34m(\u001b[0m\u001b[0mtokens_batch\u001b[0m\u001b[0;34m[\u001b[0m\u001b[0;36m0\u001b[0m\u001b[0;34m]\u001b[0m\u001b[0;34m,\u001b[0m \u001b[0mstr\u001b[0m\u001b[0;34m)\u001b[0m\u001b[0;34m:\u001b[0m  \u001b[0;31m# skip for already tokenized text\u001b[0m\u001b[0;34m\u001b[0m\u001b[0;34m\u001b[0m\u001b[0m\n\u001b[0m\u001b[1;32m     51\u001b[0m             tokens_batch = [self.tokenizer.basic_tokenizer.tokenize(sentence, self.tokenizer.all_special_tokens)\n\u001b[1;32m     52\u001b[0m                             for sentence in tokens_batch]\n",
      "\u001b[0;31mIndexError\u001b[0m: list index out of range"
     ]
    }
   ],
   "source": [
    "done = 0\n",
    "df = pd.read_csv('test_data.csv')[done: rows]\n",
    "cur_yhat = []\n",
    "for sent in tqdm(df['sent'].values):\n",
    "    cur_yhat.append(process_sentence(sent, models, cnt, model_tag))"
   ]
  },
  {
   "cell_type": "code",
   "execution_count": 13,
   "metadata": {},
   "outputs": [],
   "source": [
    "yhat = []"
   ]
  },
  {
   "cell_type": "code",
   "execution_count": 16,
   "metadata": {},
   "outputs": [
    {
     "name": "stdout",
     "output_type": "stream",
     "text": [
      "                                   id  claim  evidence\n",
      "verifiable     label                                  \n",
      "NOT VERIFIABLE NOT ENOUGH INFO  35639  35639     35639\n",
      "VERIFIABLE     REFUTES          29775  29775     29775\n",
      "               SUPPORTS         80035  80035     80035\n",
      "0\n",
      "Nikolaj Coster-Waldau worked with the Fox Broadcasting Company.\n",
      "Николай Костер-Вальдау работал в телекомпании Fox.\n",
      "===========\n",
      "1\n",
      "Roman Atwood is a content creator.\n",
      "Роман Этвуд - создатель контента.\n",
      "===========\n",
      "2\n",
      "History of art includes architecture, dance, sculpture, music, painting, poetry literature, theatre, narrative, film, photography and graphic arts.\n",
      "История искусства включает в себя архитектуру, танцы, скульптуру, музыку, живопись, поэзию, театр, повествование, кино, фотографию и графику.\n",
      "===========\n",
      "3\n",
      "Adrienne Bailon is an accountant.\n",
      "Адриенна Бэйлон - бухгалтер.\n",
      "===========\n",
      "5\n",
      "Homeland is an American television spy thriller based on the Israeli television series Prisoners of War.\n",
      "Родина - американский шпионский телевизионный боевик по мотивам израильского телесериала Prisoners of War.\n",
      "===========\n",
      "7\n",
      "Neal Schon was named in 1954.\n",
      "Нил Шон был назван в 1954 году.\n",
      "===========\n",
      "8\n",
      "The Boston Celtics play their home games at TD Garden.\n",
      "Бостонские Селтикс играют в свои домашние игры в TD Garden.\n",
      "===========\n",
      "9\n",
      "The Ten Commandments is an epic film.\n",
      "Десять заповедей - эпический фильм.\n",
      "===========\n",
      "10\n",
      "Tetris has sold millions of physical copies.\n",
      "Тетрис продал миллионы физических копий.\n",
      "===========\n",
      "11\n",
      "Cyndi Lauper won the Best New Artist award at the 27th Grammy Awards in 1985.\n",
      "Синди Лаупер получила награду «Лучший новый артист» на 27-й премии Грэмми в 1985 году.\n",
      "===========\n",
      "12\n",
      "There is a movie called The Hunger Games.\n",
      "Есть фильм под названием «Голодные игры».\n",
      "===========\n",
      "13\n",
      "Ryan Gosling has been to a country in Africa.\n",
      "Райан Гослинг был в стране в Африке.\n",
      "===========\n",
      "14\n",
      "Stranger Things is set in Bloomington, Indiana.\n",
      "Stranger Things расположен в Блумингтоне, штат Индиана.\n",
      "===========\n",
      "15\n",
      "Ryan Seacrest is a person.\n",
      "Райан Сикрест это человек.\n",
      "===========\n",
      "16\n",
      "Puerto Rico is not an unincorporated territory of the United States.\n",
      "Пуэрто-Рико не является неинкорпорированной территорией Соединенных Штатов.\n",
      "===========\n",
      "17\n",
      "Michael Giacchino composed the score for Doctor Strange.\n",
      "Майкл Джаккино написал партитуру для Доктора Стрэнджа.\n",
      "===========\n",
      "19\n",
      "Chris Hemsworth appeared in A Perfect Getaway.\n",
      "Крис Хемсворт появился в «Идеальном побеге».\n",
      "===========\n",
      "20\n",
      "Selena recorded music.\n",
      "Селена записала музыку.\n",
      "===========\n",
      "21\n",
      "John Wick: Chapter 2 was theatrically released in the Oregon.\n",
      "Джон Вик: Глава 2 была театрально выпущена в Орегоне.\n",
      "===========\n",
      "23\n",
      "Afghanistan is the source of the Kushan dynasty.\n",
      "Афганистан является источником династии Кушанов.\n",
      "===========\n",
      "24\n",
      "Marilyn Monroe worked with Warner Brothers.\n",
      "Мэрилин Монро работала с Warner Brothers.\n",
      "===========\n",
      "25\n",
      "The Silence of the Lambs was a film starring Scott Glenn.\n",
      "«Молчание ягнят» - это фильм со Скоттом Гленном в главной роли.\n",
      "===========\n",
      "26\n",
      "Peggy Sue Got Married is a Egyptian film released in 1986.\n",
      "Peggy Sue Got Married - египетский фильм, выпущенный в 1986 году.\n",
      "===========\n",
      "27\n",
      "Andy Roddick lost 5 Master Series between 2002 and 2010.\n",
      "Энди Роддик проиграл 5 Master Series в период с 2002 по 2010 год.\n",
      "===========\n",
      "28\n",
      "As the Vietnam War raged in 1969, Yoko Ono and her husband John Lennon did not have two week-long Bed-Ins for Peace.\n",
      "Во время войны во Вьетнаме в 1969 году у Йоко Оно и ее мужа Джона Леннона не было двух недельных приютов для мира.\n",
      "===========\n",
      "29\n",
      "Tupac Shakur was born Lesane Parish Crooks.\n",
      "Тупак Шакур родился в Lesane Parish Crooks.\n",
      "===========\n",
      "30\n",
      "Harold Ramis was a veteran.\n",
      "Гарольд Рамис был ветераном.\n",
      "===========\n",
      "31\n",
      "The Jim Henson Company produced The Muppet Movie, The Dark Crystal, and Labyrinth.\n",
      "Компания Джима Хенсона выпустила «Маппет-фильм», «Темный кристалл» и «Лабиринт».\n",
      "===========\n",
      "32\n",
      "United Nations was relocated to the United States in 1945.\n",
      "Организация Объединенных Наций была перемещена в Соединенные Штаты в 1945 году.\n",
      "===========\n",
      "33\n",
      "Whoopi Goldberg co-produced an American dance tournament.\n",
      "Вупи Голдберг выступила со-продюсером турнира по американскому танцу.\n",
      "===========\n",
      "34\n",
      "Slovenia uses the euro.\n",
      "Средством платежа в Словении является евро.\n",
      "===========\n",
      "35\n",
      "Iowa is a part of the Midwestern United States.\n",
      "Айова является частью Среднего Запада США.\n",
      "===========\n",
      "36\n",
      "Keith Urban is a person who sings.\n",
      "Кит Урбан - человек, который поет.\n",
      "===========\n",
      "37\n",
      "Hotell is owned by Lisa Langseth.\n",
      "Отель принадлежит Лизе Лангсет.\n",
      "===========\n",
      "38\n",
      "Saratoga is an American film from 1937.\n",
      "Саратога - американский фильм 1937 года.\n",
      "===========\n",
      "39\n",
      "J. Howard Marshall was a baby.\n",
      "Дж. Говард Маршалл был ребенком.\n",
      "===========\n",
      "40\n",
      "Grace Jones is a dancer.\n",
      "Грейс Джонс танцует.\n",
      "===========\n",
      "41\n",
      "Lisbon has a population larger than 1.\n",
      "Население Лиссабона превышает 1.\n",
      "===========\n",
      "42\n",
      "Willie Nelson dropped out of college after three years.\n",
      "Вилли Нельсон бросил колледж через три года.\n",
      "===========\n",
      "43\n",
      "Malcolm Young was the co-founder of Australian hard rock band AC/DC.\n",
      "Малкольм Янг был соучредителем австралийской хард-рок группы AC / DC.\n",
      "===========\n",
      "44\n",
      "Nice & Slow is a jazz single.\n",
      "Nice & Slow - это джазовый сингл.\n",
      "===========\n",
      "45\n",
      "Newfoundland and Labrador is the most linguistically homogeneous of Canada.\n",
      "Ньюфаундленд и Лабрадор являются наиболее лингвистически однородными из Канады.\n",
      "===========\n",
      "46\n",
      "Furia is adapted from a short story by Anna Politkovskaya.\n",
      "Фурия взята из рассказа Анны Политковской.\n",
      "===========\n",
      "47\n",
      "One state of the United States has Russia to its west.\n",
      "Один штат Соединенных Штатов имеет Россию на западе.\n",
      "===========\n",
      "48\n",
      "Sophie Turner was born in the 1990s.\n",
      "Софи Тернер родилась в 1990-х годах.\n",
      "===========\n",
      "49\n",
      "Mother Teresa was made a saint by the church.\n",
      "Мать Тереза была сделана святой церковью.\n",
      "===========\n",
      "50\n",
      "The Smurfs (film) was released.\n",
      "Смурфики (фильм) был выпущен.\n",
      "===========\n",
      "51\n",
      "C. S. Forester's first name was Carl.\n",
      "Имя CS Forester было Карл.\n",
      "===========\n",
      "52\n",
      "Kong: Skull Island is a book.\n",
      "Kong: Skull Island - это книга.\n",
      "===========\n",
      "53\n",
      "The Challenge was a scripted show.\n",
      "Вызов был сценарием шоу.\n",
      "===========\n",
      "54\n",
      "Berlin is the capital of Germany.\n",
      "Берлин - столица Германии.\n",
      "===========\n",
      "55\n",
      "South Korea has a highly educated workforce.\n",
      "Южная Корея имеет высокообразованную рабочую силу.\n",
      "===========\n",
      "56\n",
      "Jimmy Carter led the international boycott of the 2010 Olympics.\n",
      "Джимми Картер возглавил международный бойкот Олимпиады-2010.\n",
      "===========\n",
      "57\n",
      "Hulk(comics) is a cooking recipe published by Marvel Comics recipe books.\n",
      "Халк (комикс) - кулинарный рецепт, изданный книгами рецептов Marvel Comics.\n",
      "===========\n",
      "58\n",
      "Hacksaw Ridge came out in America on November 4, 2016.\n",
      "Hacksaw Ridge вышел в Америке 4 ноября 2016 года.\n",
      "===========\n",
      "59\n",
      "The blue-ringed octopus hunts sharks.\n",
      "Осьминог с синими кольцами охотится на акул.\n",
      "===========\n",
      "60\n",
      "Buddy Holly's dog's name was Tito Rodriguez.\n",
      "Собаку Бадди Холли звали Тито Родригес.\n",
      "===========\n",
      "61\n",
      "Michael Fassbender is an actor.\n",
      "Майкл Фассбендер - актер.\n",
      "===========\n",
      "62\n",
      "Red Headed Stranger is a movie.\n",
      "Red Headed Stranger - это фильм.\n",
      "===========\n",
      "63\n",
      "Richard Eyre was born on an island.\n",
      "Ричард Эйр родился на острове.\n",
      "===========\n",
      "64\n",
      "Paul Bettany has played Vision in at least two works.\n",
      "Пол Беттани сыграл Vision как минимум в двух работах.\n",
      "===========\n",
      "65\n",
      "Scotland's Hebrides is widespread and diverse with many islands.\n",
      "Гебриды Шотландии широко распространены и разнообразны со многими островами.\n",
      "===========\n",
      "66\n",
      "Ricky Martin has cried on TV.\n",
      "Рики Мартин плакал по телевизору.\n",
      "===========\n",
      "67\n",
      "Uzbekistan is a part of the Commonwealth of Independent States (CIS).\n",
      "Узбекистан входит в Содружество Независимых Государств (СНГ).\n",
      "===========\n",
      "68\n",
      "Paul Wesley is a professional alias.\n",
      "Пол Уэсли - профессиональный псевдоним.\n",
      "===========\n",
      "69\n",
      "Charles, Prince of Wales is patron of numerous other organizations.\n",
      "Чарльз, принц Уэльский, является покровителем многих других организаций.\n",
      "===========\n",
      "70\n",
      "Chester Bennington is not a singer.\n",
      "Честер Беннингтон не певец.\n",
      "===========\n",
      "71\n",
      "Vincent Cassel played Jacques Mesrine in at least two films.\n",
      "Винсент Кассель сыграл Жака Мезрина как минимум в двух фильмах.\n",
      "===========\n",
      "72\n",
      "Pope John Paul II co-stars many actors besides Christopher Lee.\n",
      "Папа Иоанн Павел II снимается вместе со многими актерами, кроме Кристофера Ли.\n",
      "===========\n",
      "73\n",
      "David Beckham has zero middle names.\n",
      "У Дэвида Бекхэма нет нулевых отчеств.\n",
      "===========\n",
      "74\n",
      "Indiana Jones has only been portrayed by Harrison Ford.\n",
      "Индиана Джонс была изображена только Харрисоном Фордом.\n",
      "===========\n",
      "75\n",
      "Brian Wilson was part of the Beach Boys.\n",
      "Брайан Уилсон был частью Beach Boys.\n",
      "===========\n",
      "76\n",
      "The Existence of God has been argued through the Five Ways.\n",
      "Существование Бога доказывалось пятью путями.\n",
      "===========\n",
      "77\n",
      "The Great Gatsby centers on a youthful person with over a million dollars.\n",
      "Великий Гэтсби концентрируется на молодом человеке с более чем миллионом долларов.\n",
      "===========\n"
     ]
    }
   ],
   "source": [
    "yhat = yhat + cur_yhat\n",
    "done = len(yhat)\n",
    "created_df = df[: done].copy()\n",
    "created_df['yhat'] = yhat\n",
    "with open('train.json') as json_file:\n",
    "    data = [json.loads(k) for k in json_file.read().split('\\n')[:-1]]\n",
    "raw_df = pd.DataFrame(data)\n",
    "print(raw_df.groupby(['verifiable', 'label']).count())\n",
    "raw_df = raw_df.loc[:1000, :]\n",
    "cur_df = raw_df[: done].join(created_df)[['claim', 'sent']]\n",
    "#bad_translation = [4, 6, 18, 22, 84, 92, 112, 138]\n",
    "bad_translation = [4, 6, 18, 22]\n",
    "cur_df = cur_df.drop(bad_translation, errors='ingore')\n",
    "for x in cur_df.index:\n",
    "    print(x)\n",
    "    print('\\n'.join(cur_df.loc[x, :]))\n",
    "    print('===========')"
   ]
  },
  {
   "cell_type": "code",
   "execution_count": 32,
   "metadata": {},
   "outputs": [],
   "source": [
    "#df = pd.read_csv('test_data.csv')[: rows]\n",
    "#num_cores = multiprocessing.cpu_count()\n",
    "#\n",
    "#yhat = Parallel(n_jobs=num_cores // 2)(\n",
    "#    delayed(process_sentence)(sent, model, cnt, modelfile)\n",
    "#    for sent in df['sent']\n",
    "#)"
   ]
  },
  {
   "cell_type": "code",
   "execution_count": 24,
   "metadata": {},
   "outputs": [],
   "source": [
    "#created_df.rename(columns={'sent': 'translation'}).to_csv('marked_test_20200615.csv', index=None)\n",
    "created_df = pd.read_csv('marked_test_20200615.csv')\n",
    "#df = pd.read_csv('marked_test.csv').rename(columns={'sent': 'translation'})"
   ]
  },
  {
   "cell_type": "code",
   "execution_count": 55,
   "metadata": {},
   "outputs": [],
   "source": [
    "tmp_df = created_df[:50].copy()\n",
    "metrics = [\n",
    "    'sent_cos',\n",
    "    'mean_cos',\n",
    "    'sent_cos_abs',\n",
    "    'mean_cos_abs',\n",
    "    'sent_l2',\n",
    "    'mean_l2',\n",
    "    'sent_l2_norm',\n",
    "    'mean_l2_norm',\n",
    "    'sent_cos_bert',\n",
    "    'mean_cos_bert',\n",
    "    'sent_cos_abs_bert',\n",
    "    'mean_cos_abs_bert',\n",
    "    'sent_l2_bert',\n",
    "    'mean_l2_bert',\n",
    "    'sent_l2_norm_bert',\n",
    "    'mean_l2_norm_bert',\n",
    "]\n",
    "for n, m in enumerate(metrics):\n",
    "    tmp_df[m] = tmp_df['yhat'].apply(lambda x: float(x[1: -1].split(',')[n]))\n",
    "print\n",
    "accuracy = {m: {x: {} for x in tmp_df[m].unique()} for m in metrics}\n",
    "best = {m: 0 for m in metrics}\n",
    "best_x_y = {m: [0, 0]}\n",
    "for m in metrics:\n",
    "    mul = 1 if (m.find('cos') >= 0) else -1\n",
    "    for x in tmp_df[m].unique():\n",
    "        for y in tmp_df[m].unique():\n",
    "            if y < x:\n",
    "                continue\n",
    "            tmp_df['yhat_' + m] = mul * (tmp_df[m] >= y) - mul * (tmp_df[m] < x)\n",
    "            accuracy[m][x][y] = (tmp_df['yhat_' + m] == tmp_df['target']).mean()\n",
    "            if accuracy[m][x][y] > best[m]:\n",
    "                best_x_y[m] = [x, y]\n",
    "                best[m] = accuracy[m][x][y]"
   ]
  },
  {
   "cell_type": "code",
   "execution_count": 56,
   "metadata": {},
   "outputs": [
    {
     "name": "stdout",
     "output_type": "stream",
     "text": [
      "0.18\n",
      "0.24\n",
      "0.58\n"
     ]
    }
   ],
   "source": [
    "for x in [-1, 0, 1]:\n",
    "    print((tmp_df['target'] == x).mean())"
   ]
  },
  {
   "cell_type": "code",
   "execution_count": 57,
   "metadata": {},
   "outputs": [
    {
     "data": {
      "text/html": [
       "<div>\n",
       "<style scoped>\n",
       "    .dataframe tbody tr th:only-of-type {\n",
       "        vertical-align: middle;\n",
       "    }\n",
       "\n",
       "    .dataframe tbody tr th {\n",
       "        vertical-align: top;\n",
       "    }\n",
       "\n",
       "    .dataframe thead th {\n",
       "        text-align: right;\n",
       "    }\n",
       "</style>\n",
       "<table border=\"1\" class=\"dataframe\">\n",
       "  <thead>\n",
       "    <tr style=\"text-align: right;\">\n",
       "      <th></th>\n",
       "      <th>sent_cos</th>\n",
       "      <th>mean_cos</th>\n",
       "      <th>sent_cos_abs</th>\n",
       "      <th>mean_cos_abs</th>\n",
       "      <th>sent_l2</th>\n",
       "      <th>mean_l2</th>\n",
       "      <th>sent_l2_norm</th>\n",
       "      <th>mean_l2_norm</th>\n",
       "      <th>sent_cos_bert</th>\n",
       "      <th>mean_cos_bert</th>\n",
       "      <th>sent_cos_abs_bert</th>\n",
       "      <th>mean_cos_abs_bert</th>\n",
       "      <th>sent_l2_bert</th>\n",
       "      <th>mean_l2_bert</th>\n",
       "      <th>sent_l2_norm_bert</th>\n",
       "      <th>mean_l2_norm_bert</th>\n",
       "    </tr>\n",
       "  </thead>\n",
       "  <tbody>\n",
       "    <tr>\n",
       "      <th>0</th>\n",
       "      <td>0.64</td>\n",
       "      <td>0.62</td>\n",
       "      <td>0.64</td>\n",
       "      <td>0.62</td>\n",
       "      <td>0.6</td>\n",
       "      <td>0.62</td>\n",
       "      <td>0.64</td>\n",
       "      <td>0.6</td>\n",
       "      <td>0.58</td>\n",
       "      <td>0.58</td>\n",
       "      <td>0.58</td>\n",
       "      <td>0.58</td>\n",
       "      <td>0.56</td>\n",
       "      <td>0.62</td>\n",
       "      <td>0.56</td>\n",
       "      <td>0.56</td>\n",
       "    </tr>\n",
       "  </tbody>\n",
       "</table>\n",
       "</div>"
      ],
      "text/plain": [
       "   sent_cos  mean_cos  sent_cos_abs  mean_cos_abs  sent_l2  mean_l2  \\\n",
       "0      0.64      0.62          0.64          0.62      0.6     0.62   \n",
       "\n",
       "   sent_l2_norm  mean_l2_norm  sent_cos_bert  mean_cos_bert  \\\n",
       "0          0.64           0.6           0.58           0.58   \n",
       "\n",
       "   sent_cos_abs_bert  mean_cos_abs_bert  sent_l2_bert  mean_l2_bert  \\\n",
       "0               0.58               0.58          0.56          0.62   \n",
       "\n",
       "   sent_l2_norm_bert  mean_l2_norm_bert  \n",
       "0               0.56               0.56  "
      ]
     },
     "execution_count": 57,
     "metadata": {},
     "output_type": "execute_result"
    }
   ],
   "source": [
    "(pd.DataFrame(best, index=[0])).round(4)"
   ]
  },
  {
   "cell_type": "code",
   "execution_count": 58,
   "metadata": {},
   "outputs": [
    {
     "data": {
      "text/html": [
       "<div>\n",
       "<style scoped>\n",
       "    .dataframe tbody tr th:only-of-type {\n",
       "        vertical-align: middle;\n",
       "    }\n",
       "\n",
       "    .dataframe tbody tr th {\n",
       "        vertical-align: top;\n",
       "    }\n",
       "\n",
       "    .dataframe thead th {\n",
       "        text-align: right;\n",
       "    }\n",
       "</style>\n",
       "<table border=\"1\" class=\"dataframe\">\n",
       "  <thead>\n",
       "    <tr style=\"text-align: right;\">\n",
       "      <th></th>\n",
       "      <th>sent_cos</th>\n",
       "      <th>mean_cos</th>\n",
       "      <th>sent_cos_abs</th>\n",
       "      <th>mean_cos_abs</th>\n",
       "      <th>sent_l2</th>\n",
       "      <th>mean_l2</th>\n",
       "      <th>sent_l2_norm</th>\n",
       "      <th>mean_l2_norm</th>\n",
       "      <th>sent_cos_bert</th>\n",
       "      <th>mean_cos_bert</th>\n",
       "      <th>sent_cos_abs_bert</th>\n",
       "      <th>mean_cos_abs_bert</th>\n",
       "      <th>sent_l2_bert</th>\n",
       "      <th>mean_l2_bert</th>\n",
       "      <th>sent_l2_norm_bert</th>\n",
       "      <th>mean_l2_norm_bert</th>\n",
       "    </tr>\n",
       "  </thead>\n",
       "  <tbody>\n",
       "    <tr>\n",
       "      <th>0</th>\n",
       "      <td>1.1034</td>\n",
       "      <td>1.069</td>\n",
       "      <td>1.1034</td>\n",
       "      <td>1.069</td>\n",
       "      <td>1.0345</td>\n",
       "      <td>1.069</td>\n",
       "      <td>1.1034</td>\n",
       "      <td>1.0345</td>\n",
       "      <td>1.0</td>\n",
       "      <td>1.0</td>\n",
       "      <td>1.0</td>\n",
       "      <td>1.0</td>\n",
       "      <td>0.9655</td>\n",
       "      <td>1.069</td>\n",
       "      <td>0.9655</td>\n",
       "      <td>0.9655</td>\n",
       "    </tr>\n",
       "  </tbody>\n",
       "</table>\n",
       "</div>"
      ],
      "text/plain": [
       "   sent_cos  mean_cos  sent_cos_abs  mean_cos_abs  sent_l2  mean_l2  \\\n",
       "0    1.1034     1.069        1.1034         1.069   1.0345    1.069   \n",
       "\n",
       "   sent_l2_norm  mean_l2_norm  sent_cos_bert  mean_cos_bert  \\\n",
       "0        1.1034        1.0345            1.0            1.0   \n",
       "\n",
       "   sent_cos_abs_bert  mean_cos_abs_bert  sent_l2_bert  mean_l2_bert  \\\n",
       "0                1.0                1.0        0.9655         1.069   \n",
       "\n",
       "   sent_l2_norm_bert  mean_l2_norm_bert  \n",
       "0             0.9655             0.9655  "
      ]
     },
     "execution_count": 58,
     "metadata": {},
     "output_type": "execute_result"
    }
   ],
   "source": [
    "(pd.DataFrame(best, index=[0]) / 0.58).round(4)"
   ]
  },
  {
   "cell_type": "code",
   "execution_count": 59,
   "metadata": {},
   "outputs": [
    {
     "data": {
      "text/html": [
       "<div>\n",
       "<style scoped>\n",
       "    .dataframe tbody tr th:only-of-type {\n",
       "        vertical-align: middle;\n",
       "    }\n",
       "\n",
       "    .dataframe tbody tr th {\n",
       "        vertical-align: top;\n",
       "    }\n",
       "\n",
       "    .dataframe thead th {\n",
       "        text-align: right;\n",
       "    }\n",
       "</style>\n",
       "<table border=\"1\" class=\"dataframe\">\n",
       "  <thead>\n",
       "    <tr style=\"text-align: right;\">\n",
       "      <th></th>\n",
       "      <th>sent_cos</th>\n",
       "      <th>mean_cos</th>\n",
       "      <th>sent_cos_abs</th>\n",
       "      <th>mean_cos_abs</th>\n",
       "      <th>sent_l2</th>\n",
       "      <th>mean_l2</th>\n",
       "      <th>sent_l2_norm</th>\n",
       "      <th>mean_l2_norm</th>\n",
       "      <th>sent_cos_bert</th>\n",
       "      <th>mean_cos_bert</th>\n",
       "      <th>sent_cos_abs_bert</th>\n",
       "      <th>mean_cos_abs_bert</th>\n",
       "      <th>sent_l2_bert</th>\n",
       "      <th>mean_l2_bert</th>\n",
       "      <th>sent_l2_norm_bert</th>\n",
       "      <th>mean_l2_norm_bert</th>\n",
       "    </tr>\n",
       "  </thead>\n",
       "  <tbody>\n",
       "    <tr>\n",
       "      <th>0</th>\n",
       "      <td>0.64</td>\n",
       "      <td>0.62</td>\n",
       "      <td>0.64</td>\n",
       "      <td>0.62</td>\n",
       "      <td>0.6</td>\n",
       "      <td>0.62</td>\n",
       "      <td>0.64</td>\n",
       "      <td>0.6</td>\n",
       "      <td>0.58</td>\n",
       "      <td>0.58</td>\n",
       "      <td>0.58</td>\n",
       "      <td>0.58</td>\n",
       "      <td>0.56</td>\n",
       "      <td>0.62</td>\n",
       "      <td>0.56</td>\n",
       "      <td>0.56</td>\n",
       "    </tr>\n",
       "  </tbody>\n",
       "</table>\n",
       "</div>"
      ],
      "text/plain": [
       "   sent_cos  mean_cos  sent_cos_abs  mean_cos_abs  sent_l2  mean_l2  \\\n",
       "0      0.64      0.62          0.64          0.62      0.6     0.62   \n",
       "\n",
       "   sent_l2_norm  mean_l2_norm  sent_cos_bert  mean_cos_bert  \\\n",
       "0          0.64           0.6           0.58           0.58   \n",
       "\n",
       "   sent_cos_abs_bert  mean_cos_abs_bert  sent_l2_bert  mean_l2_bert  \\\n",
       "0               0.58               0.58          0.56          0.62   \n",
       "\n",
       "   sent_l2_norm_bert  mean_l2_norm_bert  \n",
       "0               0.56               0.56  "
      ]
     },
     "execution_count": 59,
     "metadata": {},
     "output_type": "execute_result"
    }
   ],
   "source": [
    "(pd.DataFrame(best, index=[0])).round(4)"
   ]
  },
  {
   "cell_type": "code",
   "execution_count": 64,
   "metadata": {},
   "outputs": [],
   "source": [
    "tmp_df = created_df[:50].copy()\n",
    "tmp_df['target'] = tmp_df['target'].clip(0)\n",
    "metrics = [\n",
    "    'sent_cos',\n",
    "    'mean_cos',\n",
    "    'sent_cos_abs',\n",
    "    'mean_cos_abs',\n",
    "    'sent_l2',\n",
    "    'mean_l2',\n",
    "    'sent_l2_norm',\n",
    "    'mean_l2_norm',\n",
    "    'sent_cos_bert',\n",
    "    'mean_cos_bert',\n",
    "    'sent_cos_abs_bert',\n",
    "    'mean_cos_abs_bert',\n",
    "    'sent_l2_bert',\n",
    "    'mean_l2_bert',\n",
    "    'sent_l2_norm_bert',\n",
    "    'mean_l2_norm_bert',\n",
    "]\n",
    "for n, m in enumerate(metrics):\n",
    "    tmp_df[m] = tmp_df['yhat'].apply(lambda x: float(x[1: -1].split(',')[n]))\n",
    "print\n",
    "best = {m: 0 for m in metrics}\n",
    "best_x = {m: 0 for m in metrics}\n",
    "for m in metrics:\n",
    "    if m.find('cos') < 0:\n",
    "        tmp_df[m] = -tmp_df[m]\n",
    "    for x in tmp_df[m].unique():\n",
    "        tmp_df['yhat_' + m] = (tmp_df[m] >= x) * 1.0\n",
    "        accuracy = (tmp_df['yhat_' + m] == tmp_df['target']).mean()\n",
    "        if accuracy > best[m]:\n",
    "            best_x[m] = [x]\n",
    "            best[m] = accuracy"
   ]
  },
  {
   "cell_type": "code",
   "execution_count": 65,
   "metadata": {},
   "outputs": [
    {
     "name": "stdout",
     "output_type": "stream",
     "text": [
      "0.42\n",
      "0.58\n"
     ]
    }
   ],
   "source": [
    "for x in [0, 1]:\n",
    "    print((tmp_df['target'] == x).mean())"
   ]
  },
  {
   "cell_type": "code",
   "execution_count": 66,
   "metadata": {},
   "outputs": [
    {
     "data": {
      "text/html": [
       "<div>\n",
       "<style scoped>\n",
       "    .dataframe tbody tr th:only-of-type {\n",
       "        vertical-align: middle;\n",
       "    }\n",
       "\n",
       "    .dataframe tbody tr th {\n",
       "        vertical-align: top;\n",
       "    }\n",
       "\n",
       "    .dataframe thead th {\n",
       "        text-align: right;\n",
       "    }\n",
       "</style>\n",
       "<table border=\"1\" class=\"dataframe\">\n",
       "  <thead>\n",
       "    <tr style=\"text-align: right;\">\n",
       "      <th></th>\n",
       "      <th>sent_cos</th>\n",
       "      <th>mean_cos</th>\n",
       "      <th>sent_cos_abs</th>\n",
       "      <th>mean_cos_abs</th>\n",
       "      <th>sent_l2</th>\n",
       "      <th>mean_l2</th>\n",
       "      <th>sent_l2_norm</th>\n",
       "      <th>mean_l2_norm</th>\n",
       "      <th>sent_cos_bert</th>\n",
       "      <th>mean_cos_bert</th>\n",
       "      <th>sent_cos_abs_bert</th>\n",
       "      <th>mean_cos_abs_bert</th>\n",
       "      <th>sent_l2_bert</th>\n",
       "      <th>mean_l2_bert</th>\n",
       "      <th>sent_l2_norm_bert</th>\n",
       "      <th>mean_l2_norm_bert</th>\n",
       "    </tr>\n",
       "  </thead>\n",
       "  <tbody>\n",
       "    <tr>\n",
       "      <th>0</th>\n",
       "      <td>1.1034</td>\n",
       "      <td>1.1034</td>\n",
       "      <td>1.1034</td>\n",
       "      <td>1.1034</td>\n",
       "      <td>1.0345</td>\n",
       "      <td>1.1379</td>\n",
       "      <td>1.1034</td>\n",
       "      <td>1.1034</td>\n",
       "      <td>1.1034</td>\n",
       "      <td>1.0</td>\n",
       "      <td>1.1034</td>\n",
       "      <td>1.0</td>\n",
       "      <td>1.0</td>\n",
       "      <td>1.1034</td>\n",
       "      <td>1.1034</td>\n",
       "      <td>1.0</td>\n",
       "    </tr>\n",
       "  </tbody>\n",
       "</table>\n",
       "</div>"
      ],
      "text/plain": [
       "   sent_cos  mean_cos  sent_cos_abs  mean_cos_abs  sent_l2  mean_l2  \\\n",
       "0    1.1034    1.1034        1.1034        1.1034   1.0345   1.1379   \n",
       "\n",
       "   sent_l2_norm  mean_l2_norm  sent_cos_bert  mean_cos_bert  \\\n",
       "0        1.1034        1.1034         1.1034            1.0   \n",
       "\n",
       "   sent_cos_abs_bert  mean_cos_abs_bert  sent_l2_bert  mean_l2_bert  \\\n",
       "0             1.1034                1.0           1.0        1.1034   \n",
       "\n",
       "   sent_l2_norm_bert  mean_l2_norm_bert  \n",
       "0             1.1034                1.0  "
      ]
     },
     "execution_count": 66,
     "metadata": {},
     "output_type": "execute_result"
    }
   ],
   "source": [
    "(pd.DataFrame(best, index=[0]) / 0.58).round(4)"
   ]
  },
  {
   "cell_type": "code",
   "execution_count": 63,
   "metadata": {},
   "outputs": [
    {
     "name": "stdout",
     "output_type": "stream",
     "text": [
      "sent_cos\n",
      "0.46141215106732353\n",
      "mean_cos\n",
      "0.4072249589490969\n",
      "sent_cos_abs\n",
      "0.46141215106732353\n",
      "mean_cos_abs\n",
      "0.4039408866995074\n",
      "sent_l2\n",
      "0.4663382594417078\n",
      "mean_l2\n",
      "0.5829228243021347\n",
      "sent_l2_norm\n",
      "0.46141215106732353\n",
      "mean_l2_norm\n",
      "0.5123152709359606\n",
      "sent_cos_bert\n",
      "0.574712643678161\n",
      "mean_cos_bert\n",
      "0.5106732348111659\n",
      "sent_cos_abs_bert\n",
      "0.574712643678161\n",
      "mean_cos_abs_bert\n",
      "0.5106732348111659\n",
      "sent_l2_bert\n",
      "0.5106732348111659\n",
      "mean_l2_bert\n",
      "0.555008210180624\n",
      "sent_l2_norm_bert\n",
      "0.574712643678161\n",
      "mean_l2_norm_bert\n",
      "0.40722495894909694\n"
     ]
    }
   ],
   "source": [
    "for m in metrics:\n",
    "    print(m)\n",
    "    print(roc_auc_score(\n",
    "        tmp_df['target'].values.reshape(-1, 1),\n",
    "        tmp_df[m].values.reshape(-1, 1)\n",
    "    ))"
   ]
  },
  {
   "cell_type": "code",
   "execution_count": 67,
   "metadata": {},
   "outputs": [
    {
     "name": "stdout",
     "output_type": "stream",
     "text": [
      "0.18\n",
      "0.82\n"
     ]
    }
   ],
   "source": [
    "tmp_df = created_df[:50].copy()\n",
    "tmp_df['target'] = (tmp_df['target'] + 1).clip(None, 1)\n",
    "metrics = [\n",
    "    'sent_cos',\n",
    "    'mean_cos',\n",
    "    'sent_cos_abs',\n",
    "    'mean_cos_abs',\n",
    "    'sent_l2',\n",
    "    'mean_l2',\n",
    "    'sent_l2_norm',\n",
    "    'mean_l2_norm',\n",
    "    'sent_cos_bert',\n",
    "    'mean_cos_bert',\n",
    "    'sent_cos_abs_bert',\n",
    "    'mean_cos_abs_bert',\n",
    "    'sent_l2_bert',\n",
    "    'mean_l2_bert',\n",
    "    'sent_l2_norm_bert',\n",
    "    'mean_l2_norm_bert',\n",
    "]\n",
    "for n, m in enumerate(metrics):\n",
    "    tmp_df[m] = tmp_df['yhat'].apply(lambda x: float(x[1: -1].split(',')[n]))\n",
    "print\n",
    "best = {m: 0 for m in metrics}\n",
    "best_x = {m: 0 for m in metrics}\n",
    "for m in metrics:\n",
    "    if m.find('cos') < 0:\n",
    "        tmp_df[m] = -tmp_df[m]\n",
    "    for x in tmp_df[m].unique():\n",
    "        tmp_df['yhat_' + m] = (tmp_df[m] >= x) * 1.0\n",
    "        accuracy = (tmp_df['yhat_' + m] == tmp_df['target']).mean()\n",
    "        if accuracy > best[m]:\n",
    "            best_x[m] = [x]\n",
    "            best[m] = accuracy\n",
    "for x in [0, 1]:\n",
    "    print((tmp_df['target'] == x).mean())"
   ]
  },
  {
   "cell_type": "code",
   "execution_count": 68,
   "metadata": {},
   "outputs": [
    {
     "data": {
      "text/plain": [
       "{'sent_cos': 0.86,\n",
       " 'mean_cos': 0.84,\n",
       " 'sent_cos_abs': 0.86,\n",
       " 'mean_cos_abs': 0.84,\n",
       " 'sent_l2': 0.84,\n",
       " 'mean_l2': 0.82,\n",
       " 'sent_l2_norm': 0.86,\n",
       " 'mean_l2_norm': 0.82,\n",
       " 'sent_cos_bert': 0.82,\n",
       " 'mean_cos_bert': 0.82,\n",
       " 'sent_cos_abs_bert': 0.82,\n",
       " 'mean_cos_abs_bert': 0.82,\n",
       " 'sent_l2_bert': 0.82,\n",
       " 'mean_l2_bert': 0.84,\n",
       " 'sent_l2_norm_bert': 0.82,\n",
       " 'mean_l2_norm_bert': 0.82}"
      ]
     },
     "execution_count": 68,
     "metadata": {},
     "output_type": "execute_result"
    }
   ],
   "source": [
    "best"
   ]
  },
  {
   "cell_type": "code",
   "execution_count": 69,
   "metadata": {},
   "outputs": [
    {
     "data": {
      "text/html": [
       "<div>\n",
       "<style scoped>\n",
       "    .dataframe tbody tr th:only-of-type {\n",
       "        vertical-align: middle;\n",
       "    }\n",
       "\n",
       "    .dataframe tbody tr th {\n",
       "        vertical-align: top;\n",
       "    }\n",
       "\n",
       "    .dataframe thead th {\n",
       "        text-align: right;\n",
       "    }\n",
       "</style>\n",
       "<table border=\"1\" class=\"dataframe\">\n",
       "  <thead>\n",
       "    <tr style=\"text-align: right;\">\n",
       "      <th></th>\n",
       "      <th>sent_cos</th>\n",
       "      <th>mean_cos</th>\n",
       "      <th>sent_cos_abs</th>\n",
       "      <th>mean_cos_abs</th>\n",
       "      <th>sent_l2</th>\n",
       "      <th>mean_l2</th>\n",
       "      <th>sent_l2_norm</th>\n",
       "      <th>mean_l2_norm</th>\n",
       "      <th>sent_cos_bert</th>\n",
       "      <th>mean_cos_bert</th>\n",
       "      <th>sent_cos_abs_bert</th>\n",
       "      <th>mean_cos_abs_bert</th>\n",
       "      <th>sent_l2_bert</th>\n",
       "      <th>mean_l2_bert</th>\n",
       "      <th>sent_l2_norm_bert</th>\n",
       "      <th>mean_l2_norm_bert</th>\n",
       "    </tr>\n",
       "  </thead>\n",
       "  <tbody>\n",
       "    <tr>\n",
       "      <th>0</th>\n",
       "      <td>1.0488</td>\n",
       "      <td>1.0244</td>\n",
       "      <td>1.0488</td>\n",
       "      <td>1.0244</td>\n",
       "      <td>1.0244</td>\n",
       "      <td>1.0</td>\n",
       "      <td>1.0488</td>\n",
       "      <td>1.0</td>\n",
       "      <td>1.0</td>\n",
       "      <td>1.0</td>\n",
       "      <td>1.0</td>\n",
       "      <td>1.0</td>\n",
       "      <td>1.0</td>\n",
       "      <td>1.0244</td>\n",
       "      <td>1.0</td>\n",
       "      <td>1.0</td>\n",
       "    </tr>\n",
       "  </tbody>\n",
       "</table>\n",
       "</div>"
      ],
      "text/plain": [
       "   sent_cos  mean_cos  sent_cos_abs  mean_cos_abs  sent_l2  mean_l2  \\\n",
       "0    1.0488    1.0244        1.0488        1.0244   1.0244      1.0   \n",
       "\n",
       "   sent_l2_norm  mean_l2_norm  sent_cos_bert  mean_cos_bert  \\\n",
       "0        1.0488           1.0            1.0            1.0   \n",
       "\n",
       "   sent_cos_abs_bert  mean_cos_abs_bert  sent_l2_bert  mean_l2_bert  \\\n",
       "0                1.0                1.0           1.0        1.0244   \n",
       "\n",
       "   sent_l2_norm_bert  mean_l2_norm_bert  \n",
       "0                1.0                1.0  "
      ]
     },
     "execution_count": 69,
     "metadata": {},
     "output_type": "execute_result"
    }
   ],
   "source": [
    "(pd.DataFrame(best, index=[0]) / 0.82).round(4)"
   ]
  },
  {
   "cell_type": "code",
   "execution_count": 70,
   "metadata": {},
   "outputs": [
    {
     "name": "stdout",
     "output_type": "stream",
     "text": [
      "sent_cos\n",
      "0.4173441734417344\n",
      "mean_cos\n",
      "0.4905149051490515\n",
      "sent_cos_abs\n",
      "0.4173441734417344\n",
      "mean_cos_abs\n",
      "0.4905149051490515\n",
      "sent_l2\n",
      "0.5772357723577236\n",
      "mean_l2\n",
      "0.5772357723577236\n",
      "sent_l2_norm\n",
      "0.4173441734417344\n",
      "mean_l2_norm\n",
      "0.4878048780487805\n",
      "sent_cos_bert\n",
      "0.6368563685636857\n",
      "mean_cos_bert\n",
      "0.5907859078590786\n",
      "sent_cos_abs_bert\n",
      "0.6368563685636857\n",
      "mean_cos_abs_bert\n",
      "0.5907859078590786\n",
      "sent_l2_bert\n",
      "0.5989159891598916\n",
      "mean_l2_bert\n",
      "0.42276422764227645\n",
      "sent_l2_norm_bert\n",
      "0.6368563685636857\n",
      "mean_l2_norm_bert\n",
      "0.3441734417344174\n"
     ]
    }
   ],
   "source": [
    "for m in metrics:\n",
    "    print(m)\n",
    "    print(roc_auc_score(\n",
    "        tmp_df['target'].values.reshape(-1, 1),\n",
    "        tmp_df[m].values.reshape(-1, 1)\n",
    "    ))"
   ]
  },
  {
   "cell_type": "code",
   "execution_count": 71,
   "metadata": {},
   "outputs": [
    {
     "name": "stdout",
     "output_type": "stream",
     "text": [
      "0.24\n",
      "0.76\n"
     ]
    }
   ],
   "source": [
    "tmp_df = created_df[:50].copy()\n",
    "tmp_df['target'] = tmp_df['target'].abs()\n",
    "metrics = [\n",
    "    'sent_cos',\n",
    "    'mean_cos',\n",
    "    'sent_cos_abs',\n",
    "    'mean_cos_abs',\n",
    "    'sent_l2',\n",
    "    'mean_l2',\n",
    "    'sent_l2_norm',\n",
    "    'mean_l2_norm',\n",
    "    'sent_cos_bert',\n",
    "    'mean_cos_bert',\n",
    "    'sent_cos_abs_bert',\n",
    "    'mean_cos_abs_bert',\n",
    "    'sent_l2_bert',\n",
    "    'mean_l2_bert',\n",
    "    'sent_l2_norm_bert',\n",
    "    'mean_l2_norm_bert',\n",
    "]\n",
    "for n, m in enumerate(metrics):\n",
    "    tmp_df[m] = tmp_df['yhat'].apply(lambda x: float(x[1: -1].split(',')[n]))\n",
    "print\n",
    "best = {m: 0 for m in metrics}\n",
    "best_x = {m: 0 for m in metrics}\n",
    "for m in metrics:\n",
    "    if m.find('cos') < 0:\n",
    "        tmp_df[m] = -tmp_df[m]\n",
    "    for x in tmp_df[m].unique():\n",
    "        tmp_df['yhat_' + m] = (tmp_df[m] >= x) * 1.0\n",
    "        accuracy = (tmp_df['yhat_' + m] == tmp_df['target']).mean()\n",
    "        if accuracy > best[m]:\n",
    "            best_x[m] = [x]\n",
    "            best[m] = accuracy\n",
    "for x in [0, 1]:\n",
    "    print((tmp_df['target'] == x).mean())"
   ]
  },
  {
   "cell_type": "code",
   "execution_count": 73,
   "metadata": {},
   "outputs": [
    {
     "name": "stdout",
     "output_type": "stream",
     "text": [
      "sent_cos\n",
      "0.5153508771929824\n",
      "mean_cos\n",
      "0.38377192982456143\n",
      "sent_cos_abs\n",
      "0.5153508771929824\n",
      "mean_cos_abs\n",
      "0.3793859649122807\n",
      "sent_l2\n",
      "0.3925438596491228\n",
      "mean_l2\n",
      "0.5482456140350878\n",
      "sent_l2_norm\n",
      "0.5153508771929824\n",
      "mean_l2_norm\n",
      "0.5263157894736842\n",
      "sent_cos_bert\n",
      "0.48903508771929827\n",
      "mean_cos_bert\n",
      "0.4407894736842105\n",
      "sent_cos_abs_bert\n",
      "0.48903508771929827\n",
      "mean_cos_abs_bert\n",
      "0.4407894736842105\n",
      "sent_l2_bert\n",
      "0.4342105263157895\n",
      "mean_l2_bert\n",
      "0.6359649122807018\n",
      "sent_l2_norm_bert\n",
      "0.48903508771929827\n",
      "mean_l2_norm_bert\n",
      "0.5021929824561404\n"
     ]
    }
   ],
   "source": [
    "for m in metrics:\n",
    "    print(m)\n",
    "    print(roc_auc_score(\n",
    "        tmp_df['target'].values.reshape(-1, 1),\n",
    "        tmp_df[m].values.reshape(-1, 1)\n",
    "    ))"
   ]
  },
  {
   "cell_type": "markdown",
   "metadata": {},
   "source": [
    "## Sandbox"
   ]
  },
  {
   "cell_type": "code",
   "execution_count": null,
   "metadata": {},
   "outputs": [],
   "source": []
  },
  {
   "cell_type": "code",
   "execution_count": 76,
   "metadata": {},
   "outputs": [
    {
     "name": "stdout",
     "output_type": "stream",
     "text": [
      "sent_cos\n",
      "mean_cos\n",
      "sent_cos_abs\n",
      "mean_cos_abs\n",
      "sent_l2\n",
      "mean_l2\n",
      "sent_l2_norm\n",
      "mean_l2_norm\n"
     ]
    },
    {
     "data": {
      "image/png": "[encoded data removed]",
      "text/plain": [
       "<Figure size 432x288 with 1 Axes>"
      ]
     },
     "metadata": {
      "needs_background": "light"
     },
     "output_type": "display_data"
    }
   ],
   "source": [
    "for m in metrics:\n",
    "    print(m)\n",
    "    \n",
    "    plt.plot(cur_df[m].values.reshape(-1, 1), cur_df['target'].values.reshape(-1, 1), label='m')"
   ]
  },
  {
   "cell_type": "code",
   "execution_count": null,
   "metadata": {},
   "outputs": [],
   "source": [
    "print()"
   ]
  },
  {
   "cell_type": "code",
   "execution_count": 26,
   "metadata": {},
   "outputs": [
    {
     "data": {
      "text/html": [
       "<div>\n",
       "<style scoped>\n",
       "    .dataframe tbody tr th:only-of-type {\n",
       "        vertical-align: middle;\n",
       "    }\n",
       "\n",
       "    .dataframe tbody tr th {\n",
       "        vertical-align: top;\n",
       "    }\n",
       "\n",
       "    .dataframe thead th {\n",
       "        text-align: right;\n",
       "    }\n",
       "</style>\n",
       "<table border=\"1\" class=\"dataframe\">\n",
       "  <thead>\n",
       "    <tr style=\"text-align: right;\">\n",
       "      <th></th>\n",
       "      <th>sent_cos</th>\n",
       "      <th>mean_cos</th>\n",
       "      <th>sent_l2</th>\n",
       "      <th>mean_l2</th>\n",
       "      <th>sent_l2_norm</th>\n",
       "      <th>mean_l2_norm</th>\n",
       "    </tr>\n",
       "  </thead>\n",
       "  <tbody>\n",
       "    <tr>\n",
       "      <th>0.00</th>\n",
       "      <td>{0.0: 0.5352112676056338, 0.01: 0.535211267605...</td>\n",
       "      <td>{0.0: 0.5352112676056338, 0.01: 0.535211267605...</td>\n",
       "      <td>{0.0: 0.5352112676056338, 0.01: 0.535211267605...</td>\n",
       "      <td>{0.0: 0.5352112676056338, 0.01: 0.535211267605...</td>\n",
       "      <td>{0.0: 0.5352112676056338, 0.01: 0.535211267605...</td>\n",
       "      <td>{0.0: 0.5352112676056338, 0.01: 0.535211267605...</td>\n",
       "    </tr>\n",
       "    <tr>\n",
       "      <th>0.01</th>\n",
       "      <td>{0.01: 0.5352112676056338, 0.02: 0.53521126760...</td>\n",
       "      <td>{0.01: 0.5352112676056338, 0.02: 0.53521126760...</td>\n",
       "      <td>{0.01: 0.5352112676056338, 0.02: 0.53521126760...</td>\n",
       "      <td>{0.01: 0.5352112676056338, 0.02: 0.53521126760...</td>\n",
       "      <td>{0.01: 0.5352112676056338, 0.02: 0.53521126760...</td>\n",
       "      <td>{0.01: 0.5352112676056338, 0.02: 0.53521126760...</td>\n",
       "    </tr>\n",
       "    <tr>\n",
       "      <th>0.02</th>\n",
       "      <td>{0.02: 0.5352112676056338, 0.03: 0.53521126760...</td>\n",
       "      <td>{0.02: 0.5352112676056338, 0.03: 0.53521126760...</td>\n",
       "      <td>{0.02: 0.5352112676056338, 0.03: 0.53521126760...</td>\n",
       "      <td>{0.02: 0.5352112676056338, 0.03: 0.53521126760...</td>\n",
       "      <td>{0.02: 0.5352112676056338, 0.03: 0.53521126760...</td>\n",
       "      <td>{0.02: 0.5352112676056338, 0.03: 0.53521126760...</td>\n",
       "    </tr>\n",
       "    <tr>\n",
       "      <th>0.03</th>\n",
       "      <td>{0.03: 0.5352112676056338, 0.04: 0.53521126760...</td>\n",
       "      <td>{0.03: 0.5352112676056338, 0.04: 0.53521126760...</td>\n",
       "      <td>{0.03: 0.5352112676056338, 0.04: 0.53521126760...</td>\n",
       "      <td>{0.03: 0.5352112676056338, 0.04: 0.53521126760...</td>\n",
       "      <td>{0.03: 0.5352112676056338, 0.04: 0.53521126760...</td>\n",
       "      <td>{0.03: 0.5352112676056338, 0.04: 0.53521126760...</td>\n",
       "    </tr>\n",
       "    <tr>\n",
       "      <th>0.04</th>\n",
       "      <td>{0.04: 0.5352112676056338, 0.05: 0.53521126760...</td>\n",
       "      <td>{0.04: 0.5352112676056338, 0.05: 0.53521126760...</td>\n",
       "      <td>{0.04: 0.5352112676056338, 0.05: 0.53521126760...</td>\n",
       "      <td>{0.04: 0.5352112676056338, 0.05: 0.53521126760...</td>\n",
       "      <td>{0.04: 0.5352112676056338, 0.05: 0.53521126760...</td>\n",
       "      <td>{0.04: 0.5352112676056338, 0.05: 0.53521126760...</td>\n",
       "    </tr>\n",
       "    <tr>\n",
       "      <th>...</th>\n",
       "      <td>...</td>\n",
       "      <td>...</td>\n",
       "      <td>...</td>\n",
       "      <td>...</td>\n",
       "      <td>...</td>\n",
       "      <td>...</td>\n",
       "    </tr>\n",
       "    <tr>\n",
       "      <th>0.96</th>\n",
       "      <td>{0.96: 0.22535211267605634, 0.97: 0.2253521126...</td>\n",
       "      <td>{0.96: 0.22535211267605634, 0.97: 0.2183098591...</td>\n",
       "      <td>{0.96: 0.22535211267605634, 0.97: 0.2253521126...</td>\n",
       "      <td>{0.96: 0.22535211267605634, 0.97: 0.2183098591...</td>\n",
       "      <td>{0.96: 0.22535211267605634, 0.97: 0.2253521126...</td>\n",
       "      <td>{0.96: 0.22535211267605634, 0.97: 0.2183098591...</td>\n",
       "    </tr>\n",
       "    <tr>\n",
       "      <th>0.97</th>\n",
       "      <td>{0.97: 0.22535211267605634, 0.98: 0.2183098591...</td>\n",
       "      <td>{0.97: 0.21830985915492956, 0.98: 0.2183098591...</td>\n",
       "      <td>{0.97: 0.22535211267605634, 0.98: 0.2183098591...</td>\n",
       "      <td>{0.97: 0.21830985915492956, 0.98: 0.2183098591...</td>\n",
       "      <td>{0.97: 0.22535211267605634, 0.98: 0.2183098591...</td>\n",
       "      <td>{0.97: 0.21830985915492956, 0.98: 0.2183098591...</td>\n",
       "    </tr>\n",
       "    <tr>\n",
       "      <th>0.98</th>\n",
       "      <td>{0.98: 0.22535211267605634, 0.99: 0.2253521126...</td>\n",
       "      <td>{0.98: 0.22535211267605634, 0.99: 0.2253521126...</td>\n",
       "      <td>{0.98: 0.22535211267605634, 0.99: 0.2253521126...</td>\n",
       "      <td>{0.98: 0.22535211267605634, 0.99: 0.2253521126...</td>\n",
       "      <td>{0.98: 0.22535211267605634, 0.99: 0.2253521126...</td>\n",
       "      <td>{0.98: 0.22535211267605634, 0.99: 0.2253521126...</td>\n",
       "    </tr>\n",
       "    <tr>\n",
       "      <th>0.99</th>\n",
       "      <td>{0.99: 0.22535211267605634, 1.0: 0.22535211267...</td>\n",
       "      <td>{0.99: 0.22535211267605634, 1.0: 0.22535211267...</td>\n",
       "      <td>{0.99: 0.22535211267605634, 1.0: 0.22535211267...</td>\n",
       "      <td>{0.99: 0.22535211267605634, 1.0: 0.22535211267...</td>\n",
       "      <td>{0.99: 0.22535211267605634, 1.0: 0.22535211267...</td>\n",
       "      <td>{0.99: 0.22535211267605634, 1.0: 0.22535211267...</td>\n",
       "    </tr>\n",
       "    <tr>\n",
       "      <th>1.00</th>\n",
       "      <td>{1.0: 0.22535211267605634, 1.01: 0.22535211267...</td>\n",
       "      <td>{1.0: 0.22535211267605634, 1.01: 0.22535211267...</td>\n",
       "      <td>{1.0: 0.22535211267605634, 1.01: 0.22535211267...</td>\n",
       "      <td>{1.0: 0.22535211267605634, 1.01: 0.22535211267...</td>\n",
       "      <td>{1.0: 0.22535211267605634, 1.01: 0.22535211267...</td>\n",
       "      <td>{1.0: 0.22535211267605634, 1.01: 0.22535211267...</td>\n",
       "    </tr>\n",
       "  </tbody>\n",
       "</table>\n",
       "<p>101 rows × 6 columns</p>\n",
       "</div>"
      ],
      "text/plain": [
       "                                               sent_cos  \\\n",
       "0.00  {0.0: 0.5352112676056338, 0.01: 0.535211267605...   \n",
       "0.01  {0.01: 0.5352112676056338, 0.02: 0.53521126760...   \n",
       "0.02  {0.02: 0.5352112676056338, 0.03: 0.53521126760...   \n",
       "0.03  {0.03: 0.5352112676056338, 0.04: 0.53521126760...   \n",
       "0.04  {0.04: 0.5352112676056338, 0.05: 0.53521126760...   \n",
       "...                                                 ...   \n",
       "0.96  {0.96: 0.22535211267605634, 0.97: 0.2253521126...   \n",
       "0.97  {0.97: 0.22535211267605634, 0.98: 0.2183098591...   \n",
       "0.98  {0.98: 0.22535211267605634, 0.99: 0.2253521126...   \n",
       "0.99  {0.99: 0.22535211267605634, 1.0: 0.22535211267...   \n",
       "1.00  {1.0: 0.22535211267605634, 1.01: 0.22535211267...   \n",
       "\n",
       "                                               mean_cos  \\\n",
       "0.00  {0.0: 0.5352112676056338, 0.01: 0.535211267605...   \n",
       "0.01  {0.01: 0.5352112676056338, 0.02: 0.53521126760...   \n",
       "0.02  {0.02: 0.5352112676056338, 0.03: 0.53521126760...   \n",
       "0.03  {0.03: 0.5352112676056338, 0.04: 0.53521126760...   \n",
       "0.04  {0.04: 0.5352112676056338, 0.05: 0.53521126760...   \n",
       "...                                                 ...   \n",
       "0.96  {0.96: 0.22535211267605634, 0.97: 0.2183098591...   \n",
       "0.97  {0.97: 0.21830985915492956, 0.98: 0.2183098591...   \n",
       "0.98  {0.98: 0.22535211267605634, 0.99: 0.2253521126...   \n",
       "0.99  {0.99: 0.22535211267605634, 1.0: 0.22535211267...   \n",
       "1.00  {1.0: 0.22535211267605634, 1.01: 0.22535211267...   \n",
       "\n",
       "                                                sent_l2  \\\n",
       "0.00  {0.0: 0.5352112676056338, 0.01: 0.535211267605...   \n",
       "0.01  {0.01: 0.5352112676056338, 0.02: 0.53521126760...   \n",
       "0.02  {0.02: 0.5352112676056338, 0.03: 0.53521126760...   \n",
       "0.03  {0.03: 0.5352112676056338, 0.04: 0.53521126760...   \n",
       "0.04  {0.04: 0.5352112676056338, 0.05: 0.53521126760...   \n",
       "...                                                 ...   \n",
       "0.96  {0.96: 0.22535211267605634, 0.97: 0.2253521126...   \n",
       "0.97  {0.97: 0.22535211267605634, 0.98: 0.2183098591...   \n",
       "0.98  {0.98: 0.22535211267605634, 0.99: 0.2253521126...   \n",
       "0.99  {0.99: 0.22535211267605634, 1.0: 0.22535211267...   \n",
       "1.00  {1.0: 0.22535211267605634, 1.01: 0.22535211267...   \n",
       "\n",
       "                                                mean_l2  \\\n",
       "0.00  {0.0: 0.5352112676056338, 0.01: 0.535211267605...   \n",
       "0.01  {0.01: 0.5352112676056338, 0.02: 0.53521126760...   \n",
       "0.02  {0.02: 0.5352112676056338, 0.03: 0.53521126760...   \n",
       "0.03  {0.03: 0.5352112676056338, 0.04: 0.53521126760...   \n",
       "0.04  {0.04: 0.5352112676056338, 0.05: 0.53521126760...   \n",
       "...                                                 ...   \n",
       "0.96  {0.96: 0.22535211267605634, 0.97: 0.2183098591...   \n",
       "0.97  {0.97: 0.21830985915492956, 0.98: 0.2183098591...   \n",
       "0.98  {0.98: 0.22535211267605634, 0.99: 0.2253521126...   \n",
       "0.99  {0.99: 0.22535211267605634, 1.0: 0.22535211267...   \n",
       "1.00  {1.0: 0.22535211267605634, 1.01: 0.22535211267...   \n",
       "\n",
       "                                           sent_l2_norm  \\\n",
       "0.00  {0.0: 0.5352112676056338, 0.01: 0.535211267605...   \n",
       "0.01  {0.01: 0.5352112676056338, 0.02: 0.53521126760...   \n",
       "0.02  {0.02: 0.5352112676056338, 0.03: 0.53521126760...   \n",
       "0.03  {0.03: 0.5352112676056338, 0.04: 0.53521126760...   \n",
       "0.04  {0.04: 0.5352112676056338, 0.05: 0.53521126760...   \n",
       "...                                                 ...   \n",
       "0.96  {0.96: 0.22535211267605634, 0.97: 0.2253521126...   \n",
       "0.97  {0.97: 0.22535211267605634, 0.98: 0.2183098591...   \n",
       "0.98  {0.98: 0.22535211267605634, 0.99: 0.2253521126...   \n",
       "0.99  {0.99: 0.22535211267605634, 1.0: 0.22535211267...   \n",
       "1.00  {1.0: 0.22535211267605634, 1.01: 0.22535211267...   \n",
       "\n",
       "                                           mean_l2_norm  \n",
       "0.00  {0.0: 0.5352112676056338, 0.01: 0.535211267605...  \n",
       "0.01  {0.01: 0.5352112676056338, 0.02: 0.53521126760...  \n",
       "0.02  {0.02: 0.5352112676056338, 0.03: 0.53521126760...  \n",
       "0.03  {0.03: 0.5352112676056338, 0.04: 0.53521126760...  \n",
       "0.04  {0.04: 0.5352112676056338, 0.05: 0.53521126760...  \n",
       "...                                                 ...  \n",
       "0.96  {0.96: 0.22535211267605634, 0.97: 0.2183098591...  \n",
       "0.97  {0.97: 0.21830985915492956, 0.98: 0.2183098591...  \n",
       "0.98  {0.98: 0.22535211267605634, 0.99: 0.2253521126...  \n",
       "0.99  {0.99: 0.22535211267605634, 1.0: 0.22535211267...  \n",
       "1.00  {1.0: 0.22535211267605634, 1.01: 0.22535211267...  \n",
       "\n",
       "[101 rows x 6 columns]"
      ]
     },
     "execution_count": 26,
     "metadata": {},
     "output_type": "execute_result"
    }
   ],
   "source": []
  },
  {
   "cell_type": "code",
   "execution_count": 42,
   "metadata": {},
   "outputs": [],
   "source": [
    "raw_df = pd.read_csv('test_data.csv')"
   ]
  },
  {
   "cell_type": "code",
   "execution_count": 44,
   "metadata": {},
   "outputs": [
    {
     "ename": "ValueError",
     "evalue": "You are trying to merge on object and int64 columns. If you wish to proceed you should use pd.concat",
     "output_type": "error",
     "traceback": [
      "\u001b[0;31m---------------------------------------------------------------------------\u001b[0m",
      "\u001b[0;31mValueError\u001b[0m                                Traceback (most recent call last)",
      "\u001b[0;32m<ipython-input-44-bfe6ef3835e3>\u001b[0m in \u001b[0;36m<module>\u001b[0;34m\u001b[0m\n\u001b[0;32m----> 1\u001b[0;31m \u001b[0mraw_df\u001b[0m\u001b[0;34m.\u001b[0m\u001b[0mjoin\u001b[0m\u001b[0;34m(\u001b[0m\u001b[0mtmp_df\u001b[0m\u001b[0;34m,\u001b[0m \u001b[0mon\u001b[0m\u001b[0;34m=\u001b[0m\u001b[0;34m'sent'\u001b[0m\u001b[0;34m,\u001b[0m \u001b[0mhow\u001b[0m\u001b[0;34m=\u001b[0m\u001b[0;34m'inner'\u001b[0m\u001b[0;34m)\u001b[0m\u001b[0;34m\u001b[0m\u001b[0;34m\u001b[0m\u001b[0m\n\u001b[0m",
      "\u001b[0;32m~/anaconda3/lib/python3.7/site-packages/pandas/core/frame.py\u001b[0m in \u001b[0;36mjoin\u001b[0;34m(self, other, on, how, lsuffix, rsuffix, sort)\u001b[0m\n\u001b[1;32m   7204\u001b[0m         \"\"\"\n\u001b[1;32m   7205\u001b[0m         return self._join_compat(\n\u001b[0;32m-> 7206\u001b[0;31m             \u001b[0mother\u001b[0m\u001b[0;34m,\u001b[0m \u001b[0mon\u001b[0m\u001b[0;34m=\u001b[0m\u001b[0mon\u001b[0m\u001b[0;34m,\u001b[0m \u001b[0mhow\u001b[0m\u001b[0;34m=\u001b[0m\u001b[0mhow\u001b[0m\u001b[0;34m,\u001b[0m \u001b[0mlsuffix\u001b[0m\u001b[0;34m=\u001b[0m\u001b[0mlsuffix\u001b[0m\u001b[0;34m,\u001b[0m \u001b[0mrsuffix\u001b[0m\u001b[0;34m=\u001b[0m\u001b[0mrsuffix\u001b[0m\u001b[0;34m,\u001b[0m \u001b[0msort\u001b[0m\u001b[0;34m=\u001b[0m\u001b[0msort\u001b[0m\u001b[0;34m\u001b[0m\u001b[0;34m\u001b[0m\u001b[0m\n\u001b[0m\u001b[1;32m   7207\u001b[0m         )\n\u001b[1;32m   7208\u001b[0m \u001b[0;34m\u001b[0m\u001b[0m\n",
      "\u001b[0;32m~/anaconda3/lib/python3.7/site-packages/pandas/core/frame.py\u001b[0m in \u001b[0;36m_join_compat\u001b[0;34m(self, other, on, how, lsuffix, rsuffix, sort)\u001b[0m\n\u001b[1;32m   7227\u001b[0m                 \u001b[0mright_index\u001b[0m\u001b[0;34m=\u001b[0m\u001b[0;32mTrue\u001b[0m\u001b[0;34m,\u001b[0m\u001b[0;34m\u001b[0m\u001b[0;34m\u001b[0m\u001b[0m\n\u001b[1;32m   7228\u001b[0m                 \u001b[0msuffixes\u001b[0m\u001b[0;34m=\u001b[0m\u001b[0;34m(\u001b[0m\u001b[0mlsuffix\u001b[0m\u001b[0;34m,\u001b[0m \u001b[0mrsuffix\u001b[0m\u001b[0;34m)\u001b[0m\u001b[0;34m,\u001b[0m\u001b[0;34m\u001b[0m\u001b[0;34m\u001b[0m\u001b[0m\n\u001b[0;32m-> 7229\u001b[0;31m                 \u001b[0msort\u001b[0m\u001b[0;34m=\u001b[0m\u001b[0msort\u001b[0m\u001b[0;34m,\u001b[0m\u001b[0;34m\u001b[0m\u001b[0;34m\u001b[0m\u001b[0m\n\u001b[0m\u001b[1;32m   7230\u001b[0m             )\n\u001b[1;32m   7231\u001b[0m         \u001b[0;32melse\u001b[0m\u001b[0;34m:\u001b[0m\u001b[0;34m\u001b[0m\u001b[0;34m\u001b[0m\u001b[0m\n",
      "\u001b[0;32m~/anaconda3/lib/python3.7/site-packages/pandas/core/reshape/merge.py\u001b[0m in \u001b[0;36mmerge\u001b[0;34m(left, right, how, on, left_on, right_on, left_index, right_index, sort, suffixes, copy, indicator, validate)\u001b[0m\n\u001b[1;32m     84\u001b[0m         \u001b[0mcopy\u001b[0m\u001b[0;34m=\u001b[0m\u001b[0mcopy\u001b[0m\u001b[0;34m,\u001b[0m\u001b[0;34m\u001b[0m\u001b[0;34m\u001b[0m\u001b[0m\n\u001b[1;32m     85\u001b[0m         \u001b[0mindicator\u001b[0m\u001b[0;34m=\u001b[0m\u001b[0mindicator\u001b[0m\u001b[0;34m,\u001b[0m\u001b[0;34m\u001b[0m\u001b[0;34m\u001b[0m\u001b[0m\n\u001b[0;32m---> 86\u001b[0;31m         \u001b[0mvalidate\u001b[0m\u001b[0;34m=\u001b[0m\u001b[0mvalidate\u001b[0m\u001b[0;34m,\u001b[0m\u001b[0;34m\u001b[0m\u001b[0;34m\u001b[0m\u001b[0m\n\u001b[0m\u001b[1;32m     87\u001b[0m     )\n\u001b[1;32m     88\u001b[0m     \u001b[0;32mreturn\u001b[0m \u001b[0mop\u001b[0m\u001b[0;34m.\u001b[0m\u001b[0mget_result\u001b[0m\u001b[0;34m(\u001b[0m\u001b[0;34m)\u001b[0m\u001b[0;34m\u001b[0m\u001b[0;34m\u001b[0m\u001b[0m\n",
      "\u001b[0;32m~/anaconda3/lib/python3.7/site-packages/pandas/core/reshape/merge.py\u001b[0m in \u001b[0;36m__init__\u001b[0;34m(self, left, right, how, on, left_on, right_on, axis, left_index, right_index, sort, suffixes, copy, indicator, validate)\u001b[0m\n\u001b[1;32m    629\u001b[0m         \u001b[0;31m# validate the merge keys dtypes. We may need to coerce\u001b[0m\u001b[0;34m\u001b[0m\u001b[0;34m\u001b[0m\u001b[0;34m\u001b[0m\u001b[0m\n\u001b[1;32m    630\u001b[0m         \u001b[0;31m# to avoid incompat dtypes\u001b[0m\u001b[0;34m\u001b[0m\u001b[0;34m\u001b[0m\u001b[0;34m\u001b[0m\u001b[0m\n\u001b[0;32m--> 631\u001b[0;31m         \u001b[0mself\u001b[0m\u001b[0;34m.\u001b[0m\u001b[0m_maybe_coerce_merge_keys\u001b[0m\u001b[0;34m(\u001b[0m\u001b[0;34m)\u001b[0m\u001b[0;34m\u001b[0m\u001b[0;34m\u001b[0m\u001b[0m\n\u001b[0m\u001b[1;32m    632\u001b[0m \u001b[0;34m\u001b[0m\u001b[0m\n\u001b[1;32m    633\u001b[0m         \u001b[0;31m# If argument passed to validate,\u001b[0m\u001b[0;34m\u001b[0m\u001b[0;34m\u001b[0m\u001b[0;34m\u001b[0m\u001b[0m\n",
      "\u001b[0;32m~/anaconda3/lib/python3.7/site-packages/pandas/core/reshape/merge.py\u001b[0m in \u001b[0;36m_maybe_coerce_merge_keys\u001b[0;34m(self)\u001b[0m\n\u001b[1;32m   1144\u001b[0m                     \u001b[0minferred_right\u001b[0m \u001b[0;32min\u001b[0m \u001b[0mstring_types\u001b[0m \u001b[0;32mand\u001b[0m \u001b[0minferred_left\u001b[0m \u001b[0;32mnot\u001b[0m \u001b[0;32min\u001b[0m \u001b[0mstring_types\u001b[0m\u001b[0;34m\u001b[0m\u001b[0;34m\u001b[0m\u001b[0m\n\u001b[1;32m   1145\u001b[0m                 ):\n\u001b[0;32m-> 1146\u001b[0;31m                     \u001b[0;32mraise\u001b[0m \u001b[0mValueError\u001b[0m\u001b[0;34m(\u001b[0m\u001b[0mmsg\u001b[0m\u001b[0;34m)\u001b[0m\u001b[0;34m\u001b[0m\u001b[0;34m\u001b[0m\u001b[0m\n\u001b[0m\u001b[1;32m   1147\u001b[0m \u001b[0;34m\u001b[0m\u001b[0m\n\u001b[1;32m   1148\u001b[0m             \u001b[0;31m# datetimelikes must match exactly\u001b[0m\u001b[0;34m\u001b[0m\u001b[0;34m\u001b[0m\u001b[0;34m\u001b[0m\u001b[0m\n",
      "\u001b[0;31mValueError\u001b[0m: You are trying to merge on object and int64 columns. If you wish to proceed you should use pd.concat"
     ]
    }
   ],
   "source": [
    "raw_df.join(tmp_df, on=['sent', ta], how='inner')"
   ]
  },
  {
   "cell_type": "code",
   "execution_count": 39,
   "metadata": {},
   "outputs": [
    {
     "data": {
      "text/html": [
       "<div>\n",
       "<style scoped>\n",
       "    .dataframe tbody tr th:only-of-type {\n",
       "        vertical-align: middle;\n",
       "    }\n",
       "\n",
       "    .dataframe tbody tr th {\n",
       "        vertical-align: top;\n",
       "    }\n",
       "\n",
       "    .dataframe thead th {\n",
       "        text-align: right;\n",
       "    }\n",
       "</style>\n",
       "<table border=\"1\" class=\"dataframe\">\n",
       "  <thead>\n",
       "    <tr style=\"text-align: right;\">\n",
       "      <th></th>\n",
       "      <th>sent</th>\n",
       "      <th>yhat</th>\n",
       "      <th>yhat1</th>\n",
       "      <th>yhat2</th>\n",
       "      <th>mean</th>\n",
       "      <th>yhat3</th>\n",
       "      <th>yhat4</th>\n",
       "      <th>answer</th>\n",
       "    </tr>\n",
       "    <tr>\n",
       "      <th>target</th>\n",
       "      <th></th>\n",
       "      <th></th>\n",
       "      <th></th>\n",
       "      <th></th>\n",
       "      <th></th>\n",
       "      <th></th>\n",
       "      <th></th>\n",
       "      <th></th>\n",
       "    </tr>\n",
       "  </thead>\n",
       "  <tbody>\n",
       "    <tr>\n",
       "      <th>-1</th>\n",
       "      <td>34</td>\n",
       "      <td>34</td>\n",
       "      <td>34</td>\n",
       "      <td>34</td>\n",
       "      <td>34</td>\n",
       "      <td>34</td>\n",
       "      <td>34</td>\n",
       "      <td>34</td>\n",
       "    </tr>\n",
       "    <tr>\n",
       "      <th>0</th>\n",
       "      <td>37</td>\n",
       "      <td>37</td>\n",
       "      <td>37</td>\n",
       "      <td>37</td>\n",
       "      <td>37</td>\n",
       "      <td>37</td>\n",
       "      <td>37</td>\n",
       "      <td>37</td>\n",
       "    </tr>\n",
       "    <tr>\n",
       "      <th>1</th>\n",
       "      <td>79</td>\n",
       "      <td>79</td>\n",
       "      <td>79</td>\n",
       "      <td>79</td>\n",
       "      <td>79</td>\n",
       "      <td>79</td>\n",
       "      <td>79</td>\n",
       "      <td>79</td>\n",
       "    </tr>\n",
       "  </tbody>\n",
       "</table>\n",
       "</div>"
      ],
      "text/plain": [
       "        sent  yhat  yhat1  yhat2  mean  yhat3  yhat4  answer\n",
       "target                                                      \n",
       "-1        34    34     34     34    34     34     34      34\n",
       " 0        37    37     37     37    37     37     37      37\n",
       " 1        79    79     79     79    79     79     79      79"
      ]
     },
     "execution_count": 39,
     "metadata": {},
     "output_type": "execute_result"
    }
   ],
   "source": [
    "tmp_df.groupby('target').count()"
   ]
  },
  {
   "cell_type": "code",
   "execution_count": 27,
   "metadata": {},
   "outputs": [],
   "source": [
    "tmp_df['answer'] = 1 * (tmp_df[best_type] >= best_x_y[1]) -1 * (tmp_df[best_type] < best_x_y[0])"
   ]
  },
  {
   "cell_type": "code",
   "execution_count": 35,
   "metadata": {},
   "outputs": [
    {
     "data": {
      "text/plain": [
       "<matplotlib.axes._subplots.AxesSubplot at 0x1a30918f28>"
      ]
     },
     "execution_count": 35,
     "metadata": {},
     "output_type": "execute_result"
    },
    {
     "data": {
      "image/png": "[encoded data removed]",
      "text/plain": [
       "<Figure size 432x288 with 1 Axes>"
      ]
     },
     "metadata": {
      "needs_background": "light"
     },
     "output_type": "display_data"
    }
   ],
   "source": [
    "tmp_df.plot(kind='scatter', x='answer', y='target')"
   ]
  },
  {
   "cell_type": "code",
   "execution_count": 22,
   "metadata": {},
   "outputs": [
    {
     "data": {
      "text/plain": [
       "0.5666666666666667"
      ]
     },
     "execution_count": 22,
     "metadata": {},
     "output_type": "execute_result"
    }
   ],
   "source": [
    "best"
   ]
  },
  {
   "cell_type": "code",
   "execution_count": null,
   "metadata": {},
   "outputs": [],
   "source": [
    "import matplotlib.pyplot as plt"
   ]
  },
  {
   "cell_type": "code",
   "execution_count": null,
   "metadata": {},
   "outputs": [],
   "source": [
    "plt.scatter(df['target'], df['yhat1'])"
   ]
  },
  {
   "cell_type": "code",
   "execution_count": null,
   "metadata": {},
   "outputs": [],
   "source": [
    "process_sentence('во второй мировой войне победила Германия', model, modelfile)"
   ]
  },
  {
   "cell_type": "code",
   "execution_count": null,
   "metadata": {},
   "outputs": [],
   "source": [
    "sent = 'во второй мировой войне победила Германия'\n",
    "#queries, pages = get_relevant_pages(get_english_translation(sent), 6)\n",
    "queries, pages = get_relevant_pages(sent, 4)"
   ]
  },
  {
   "cell_type": "code",
   "execution_count": null,
   "metadata": {},
   "outputs": [],
   "source": [
    "paragraphs = get_paragraphs(pages, queries, sent)"
   ]
  },
  {
   "cell_type": "code",
   "execution_count": null,
   "metadata": {},
   "outputs": [],
   "source": [
    "paragraphs = get_paragraphs(pages, queries, sent)"
   ]
  },
  {
   "cell_type": "code",
   "execution_count": null,
   "metadata": {},
   "outputs": [],
   "source": [
    "model_url = 'http://vectors.nlpl.eu/repository/11/180.zip'\n",
    "#model_url = 'http://vectors.nlpl.eu/repository/20/183.zip'\n",
    "#wget.download(model_url)\n",
    "\n",
    "model_file = model_url.split('/')[-1]\n",
    "with zipfile.ZipFile(model_file, 'r') as archive:\n",
    "    stream = archive.open('model.bin')\n",
    "    model = gensim.models.KeyedVectors.load_word2vec_format(stream, binary=True)"
   ]
  },
  {
   "cell_type": "code",
   "execution_count": null,
   "metadata": {},
   "outputs": [],
   "source": [
    "queries, sent_vectors = get_vectors_for_phrase(sent, model)"
   ]
  },
  {
   "cell_type": "code",
   "execution_count": null,
   "metadata": {},
   "outputs": [],
   "source": [
    "sent_vectors.shape"
   ]
  },
  {
   "cell_type": "code",
   "execution_count": null,
   "metadata": {},
   "outputs": [],
   "source": [
    "queries"
   ]
  },
  {
   "cell_type": "code",
   "execution_count": null,
   "metadata": {},
   "outputs": [],
   "source": [
    "par_vectors = []\n",
    "modelfile='udpipe_syntagrus.model'\n",
    "udpipe_model_url = 'https://rusvectores.org/static/models/udpipe_syntagrus.model'\n",
    "#if not os.path.isfile(modelfile):\n",
    "#    print('UDPipe model not found. Downloading...', file=sys.stderr)\n",
    "#    wget.download(udpipe_model_url)\n",
    "model_tag = Model.load(modelfile)\n",
    "for par in tqdm(paragraphs):\n",
    "    words = tag_ud(par, model_tag)\n",
    "    vectors = np.array([model.get_vector(word) for word in words if word in model])\n",
    "    total_vector = np.mean(vectors, axis=0)\n",
    "    par_vectors.append(total_vector)\n",
    "pvs = np.vstack([pv for pv in par_vectors if isinstance(pv, np.ndarray)])"
   ]
  },
  {
   "cell_type": "code",
   "execution_count": null,
   "metadata": {},
   "outputs": [],
   "source": [
    "dist = cosine_similarity(sent_vectors, pvs)"
   ]
  },
  {
   "cell_type": "code",
   "execution_count": null,
   "metadata": {},
   "outputs": [],
   "source": [
    "dist"
   ]
  },
  {
   "cell_type": "code",
   "execution_count": null,
   "metadata": {},
   "outputs": [],
   "source": [
    "queries"
   ]
  },
  {
   "cell_type": "code",
   "execution_count": null,
   "metadata": {
    "scrolled": true
   },
   "outputs": [],
   "source": [
    "np.max(dist, axis=1)[-1], np.mean(np.max(dist, axis=1))"
   ]
  },
  {
   "cell_type": "code",
   "execution_count": null,
   "metadata": {},
   "outputs": [],
   "source": [
    "np.argmax(dist, axis=1)"
   ]
  },
  {
   "cell_type": "code",
   "execution_count": null,
   "metadata": {},
   "outputs": [],
   "source": [
    "for i, idx in enumerate(np.argmax(dist, axis=1)):\n",
    "    print(np.max(dist, axis=1)[i])\n",
    "    print(queries[i])\n",
    "    print(paragraphs[idx])\n",
    "    print('\\n'+'='*10)"
   ]
  },
  {
   "cell_type": "code",
   "execution_count": null,
   "metadata": {},
   "outputs": [],
   "source": [
    "df = pd.read_csv('test_data.csv')"
   ]
  },
  {
   "cell_type": "code",
   "execution_count": null,
   "metadata": {},
   "outputs": [],
   "source": [
    "df[:150].groupby('target').count()"
   ]
  },
  {
   "cell_type": "code",
   "execution_count": null,
   "metadata": {},
   "outputs": [],
   "source": [
    "for x in df:\n",
    "    print(x)"
   ]
  },
  {
   "cell_type": "code",
   "execution_count": null,
   "metadata": {},
   "outputs": [],
   "source": [
    "\n",
    "import pandas as pd\n",
    "with open('train.json') as json_file:\n",
    "    data = [json.loads(k) for k in json_file.read().split('\\n')[:-1]]\n",
    "df = pd.DataFrame(data)\n",
    "print(df.groupby(['verifiable', 'label']).count())\n",
    "tmp_df = df.loc[:1000, :].copy()\n",
    "tmp_df['target'] = (\n",
    "    (tmp_df['verifiable'] == 'VERIFIABLE')\n",
    "    * tmp_df['label'].apply(lambda x: 1 if x == 'SUPPORTS' else -1)\n",
    ")\n",
    "tmp_df['sent'] = tmp_df['claim'].apply(lambda x: get_russian_translation(x))"
   ]
  },
  {
   "cell_type": "code",
   "execution_count": null,
   "metadata": {},
   "outputs": [],
   "source": [
    "tmp_df[['claim', 'sent', 'target']].to_csv('test_data.csv', index=None)"
   ]
  },
  {
   "cell_type": "code",
   "execution_count": null,
   "metadata": {},
   "outputs": [],
   "source": [
    "tmp_df.groupby(['target']).count()"
   ]
  },
  {
   "cell_type": "code",
   "execution_count": null,
   "metadata": {},
   "outputs": [],
   "source": [
    "! conda uninstall googletrans"
   ]
  },
  {
   "cell_type": "code",
   "execution_count": null,
   "metadata": {},
   "outputs": [],
   "source": [
    "! pip uninstall googletrans\n",
    "! git clone https://github.com/BoseCorp/py-googletrans.git\n",
    "! cd ./py-googletrans\n",
    "! python setup.py install"
   ]
  },
  {
   "cell_type": "code",
   "execution_count": null,
   "metadata": {},
   "outputs": [],
   "source": [
    "df.groupby(['verifiable', 'label']).count()"
   ]
  },
  {
   "cell_type": "code",
   "execution_count": null,
   "metadata": {},
   "outputs": [],
   "source": []
  },
  {
   "cell_type": "code",
   "execution_count": null,
   "metadata": {},
   "outputs": [],
   "source": []
  },
  {
   "cell_type": "code",
   "execution_count": null,
   "metadata": {},
   "outputs": [],
   "source": []
  },
  {
   "cell_type": "code",
   "execution_count": null,
   "metadata": {},
   "outputs": [],
   "source": []
  },
  {
   "cell_type": "code",
   "execution_count": null,
   "metadata": {},
   "outputs": [],
   "source": [
    "words = tag_ud(sent)"
   ]
  },
  {
   "cell_type": "code",
   "execution_count": null,
   "metadata": {},
   "outputs": [],
   "source": [
    "sent = ' '.join(words)\n",
    "vectors = np.array([model.get_vector(word) for word in words if word in model])\n",
    "total_vector = np.mean(vectors, axis=0)\n",
    "total_vector"
   ]
  },
  {
   "cell_type": "code",
   "execution_count": null,
   "metadata": {},
   "outputs": [],
   "source": [
    "import wget\n",
    "\n",
    "udpipe_url = 'https://rusvectores.org/static/models/udpipe_syntagrus.model'\n",
    "text_url = 'https://rusvectores.org/static/henry_sobolya.txt'\n",
    "\n",
    "modelfile = wget.download(udpipe_url)\n",
    "textfile = wget.download(text_url)"
   ]
  },
  {
   "cell_type": "code",
   "execution_count": null,
   "metadata": {},
   "outputs": [],
   "source": [
    "\n",
    "model_url = 'http://vectors.nlpl.eu/repository/11/180.zip'\n",
    "m = wget.download(model_url)\n",
    "model_file = model_url.split('/')[-1]\n",
    "with zipfile.ZipFile(model_file, 'r') as archive:\n",
    "    stream = archive.open('model.bin')\n",
    "    model = gensim.models.KeyedVectors.load_word2vec_format(stream, binary=True)"
   ]
  },
  {
   "cell_type": "code",
   "execution_count": null,
   "metadata": {},
   "outputs": [],
   "source": [
    "process(process_pipeline, 'факт (лат. factum) — термин, в широком смысле может выступать как синоним истины')"
   ]
  },
  {
   "cell_type": "code",
   "execution_count": null,
   "metadata": {},
   "outputs": [],
   "source": [
    "words = ['день_NOUN', 'ночь_NOUN', 'человек_NOUN', 'семантика_NOUN', 'студент_NOUN', 'студент_ADJ']"
   ]
  },
  {
   "cell_type": "code",
   "execution_count": null,
   "metadata": {},
   "outputs": [],
   "source": [
    "for word in words:\n",
    "    # есть ли слово в модели? Может быть, и нет\n",
    "    if word in model:\n",
    "        print(word)\n",
    "        # выдаем 10 ближайших соседей слова:\n",
    "        for i in model.most_similar(positive=[word], topn=10):\n",
    "            # слово + коэффициент косинусной близости\n",
    "            print(i[0], i[1])\n",
    "        print('\\n')\n",
    "    else:\n",
    "        # Увы!\n",
    "        print(word + ' is not present in the model')"
   ]
  },
  {
   "cell_type": "code",
   "execution_count": null,
   "metadata": {},
   "outputs": [],
   "source": [
    "print(model.similarity('человек_NOUN', 'обезьяна_NOUN'))"
   ]
  },
  {
   "cell_type": "code",
   "execution_count": null,
   "metadata": {},
   "outputs": [],
   "source": [
    "print(model.doesnt_match('яблоко_NOUN груша_NOUN виноград_NOUN банан_NOUN лимон_NOUN картофель_NOUN'.split()))"
   ]
  },
  {
   "cell_type": "code",
   "execution_count": null,
   "metadata": {},
   "outputs": [],
   "source": [
    "print(model.most_similar(positive=['пицца_NOUN', 'россия_NOUN'], negative=['италия_NOUN'])[0][0])"
   ]
  },
  {
   "cell_type": "code",
   "execution_count": null,
   "metadata": {},
   "outputs": [],
   "source": [
    "model.get_vector('человек_NOUN').shape"
   ]
  },
  {
   "cell_type": "code",
   "execution_count": null,
   "metadata": {},
   "outputs": [],
   "source": [
    "import numpy as np\n",
    "from sklearn.metrics.pairwise import cosine_similarity\n",
    "def get_phrase_vector(model, sent):\n",
    "    words = sent.split()\n",
    "    return np.mean(np.array([model.get_vector(word) for word in words]), axis=0).reshape(1,-1)"
   ]
  },
  {
   "cell_type": "code",
   "execution_count": null,
   "metadata": {},
   "outputs": [],
   "source": [
    "cosine_similarity(\n",
    "    get_phrase_vector(model, 'яблоко_NOUN груша_NOUN виноград_NOUN банан_NOUN лимон_NOUN картофель_NOUN'),\n",
    "    get_phrase_vector(model, 'яблоко_NOUN груша_NOUN виноград_NOUN банан_NOUN лимон_NOUN картофель_NOUN')\n",
    ")[0,0]"
   ]
  },
  {
   "cell_type": "code",
   "execution_count": null,
   "metadata": {},
   "outputs": [],
   "source": [
    "print(model.similarity('яблоко_NOUN', 'яблоко_NOUN'))"
   ]
  },
  {
   "cell_type": "code",
   "execution_count": null,
   "metadata": {},
   "outputs": [],
   "source": [
    "get_phrase_vector(model, text)"
   ]
  },
  {
   "cell_type": "code",
   "execution_count": null,
   "metadata": {},
   "outputs": [],
   "source": [
    "text = 'факт (лат. factum) — термин, в широком смысле может выступать как синоним истины'"
   ]
  },
  {
   "cell_type": "code",
   "execution_count": null,
   "metadata": {},
   "outputs": [],
   "source": [
    "tag_ud(text=text, modelfile=modelfile)"
   ]
  },
  {
   "cell_type": "code",
   "execution_count": null,
   "metadata": {},
   "outputs": [],
   "source": []
  }
 ],
 "metadata": {
  "kernelspec": {
   "display_name": "Python 3",
   "language": "python",
   "name": "python3"
  },
  "language_info": {
   "codemirror_mode": {
    "name": "ipython",
    "version": 3
   },
   "file_extension": ".py",
   "mimetype": "text/x-python",
   "name": "python",
   "nbconvert_exporter": "python",
   "pygments_lexer": "ipython3",
   "version": "3.7.1"
  }
 },
 "nbformat": 4,
 "nbformat_minor": 2
}
